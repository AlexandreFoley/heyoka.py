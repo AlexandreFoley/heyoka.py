{
 "cells": [
  {
   "cell_type": "code",
   "execution_count": 1,
   "id": "ef2553da",
   "metadata": {},
   "outputs": [],
   "source": [
    "import heyoka as hy\n",
    "import numpy as np"
   ]
  },
  {
   "cell_type": "code",
   "execution_count": 5,
   "id": "67bb8168",
   "metadata": {},
   "outputs": [],
   "source": [
    "x, y, vx, vy = hy.make_vars(\"x\", \"y\", \"vx\", \"vy\")\n",
    "\n",
    "eqns = [(x, vx),\n",
    "        (y, vy),\n",
    "        (vx, hy.expression(0.)),\n",
    "        (vy, hy.expression(-9.8))]\n",
    "\n",
    "eq_w_curve = y - (1. - x + 0.05 * hy.cos(11 * np.pi * x))\n",
    "eq_bottom = y\n",
    "\n",
    "Cr = .8\n",
    "\n",
    "last_t = 0.\n",
    "bounce_points = []\n",
    "\n",
    "def cb_w_curve(ta, mr):\n",
    "    global last_t\n",
    "\n",
    "    if ta.time - last_t < 1e-10:\n",
    "        return False\n",
    "\n",
    "    last_t = ta.time\n",
    "\n",
    "    x, y = ta.state[0:2]\n",
    "    bounce_points.append((x, y))\n",
    "    \n",
    "    # Compute the normal unit vector\n",
    "    # using the gradient of the event\n",
    "    # equation.\n",
    "    grad = np.array([1+0.05*11*np.pi*np.sin(11*np.pi*x), 1])\n",
    "    grad_uvec = grad / np.linalg.norm(grad)\n",
    "    \n",
    "    # Compute the component of the velocity\n",
    "    # across the normal vector.\n",
    "    xy_vel = ta.state[2:4]\n",
    "    vproj = np.dot(xy_vel, grad_uvec)\n",
    "    \n",
    "    # Flip it.\n",
    "    Dv = -vproj*grad_uvec\n",
    "    xy_vel += (1. + Cr) * Dv\n",
    "\n",
    "    return True\n",
    "\n",
    "def cb_bottom(ta, mr):\n",
    "    global last_t\n",
    "\n",
    "    if ta.time - last_t < 1e-10:\n",
    "        return False\n",
    "\n",
    "    last_t = ta.time\n",
    "\n",
    "    x, y = ta.state[0:2]\n",
    "    bounce_points.append((x, y))\n",
    "    \n",
    "    ta.state[3] = -Cr*ta.state[3]\n",
    "    \n",
    "    return True\n",
    "\n",
    "ta = hy.taylor_adaptive(eqns, [0, 1.2, 0, 0], t_events = [hy.t_event(eq_w_curve, callback = cb_w_curve),\n",
    "                                                          hy.t_event(eq_bottom, callback = cb_bottom)])"
   ]
  },
  {
   "cell_type": "code",
   "execution_count": 6,
   "id": "7a28b125",
   "metadata": {},
   "outputs": [],
   "source": [
    "t_grid = np.linspace(0, 10, 10000)\n",
    "oc, _1, _2, _3, res = ta.propagate_grid(t_grid)\n",
    "\n",
    "b_points = np.array(bounce_points)"
   ]
  },
  {
   "cell_type": "code",
   "execution_count": 7,
   "id": "59ff01f6",
   "metadata": {},
   "outputs": [
    {
     "data": {
      "application/vnd.jupyter.widget-view+json": {
       "model_id": "0b999fd48d3a431199f8fc5f24be6a3b",
       "version_major": 2,
       "version_minor": 0
      },
      "text/plain": [
       "Canvas(toolbar=Toolbar(toolitems=[('Home', 'Reset original view', 'home', 'home'), ('Back', 'Back to previous …"
      ]
     },
     "metadata": {},
     "output_type": "display_data"
    }
   ],
   "source": [
    "%matplotlib widget\n",
    "from matplotlib.pylab import plt\n",
    "\n",
    "fig = plt.figure()\n",
    "plt.plot(res[:,0],res[:,1])\n",
    "x_grid = np.linspace(0, 1., 1000)\n",
    "plt.plot(x_grid, (1 - x_grid + 0.05 * np.cos(11 * np.pi * x_grid)), 'k-', linewidth=1)\n",
    "plt.plot(b_points[:, 0], b_points[:, 1], 'o', alpha=.5)\n",
    "plt.fill_between(x_grid, -1., (1 - x_grid + 0.05 * np.cos(11 * np.pi * x_grid)), color='gray',)\n",
    "plt.ylim(0, None);"
   ]
  }
 ],
 "metadata": {
  "kernelspec": {
   "display_name": "Python 3",
   "language": "python",
   "name": "python3"
  },
  "language_info": {
   "codemirror_mode": {
    "name": "ipython",
    "version": 3
   },
   "file_extension": ".py",
   "mimetype": "text/x-python",
   "name": "python",
   "nbconvert_exporter": "python",
   "pygments_lexer": "ipython3",
   "version": "3.8.6"
  }
 },
 "nbformat": 4,
 "nbformat_minor": 5
}
