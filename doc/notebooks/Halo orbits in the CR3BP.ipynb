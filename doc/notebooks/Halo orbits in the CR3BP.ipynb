{
 "cells": [
  {
   "cell_type": "markdown",
   "id": "61d7a4e5",
   "metadata": {},
   "source": [
    "Finding Halo Orbits\n",
    "=========================\n",
    "\n",
    "In this example, we will show how it is possible to use heyoka.py's [expression system](<./The expression system.ipynb>), to compute the state transition matrix of the [circular restricted three-body problem](<./The restricted three-body problem.ipynb>) via [variational equations](<./The variational equations.ipynb>) and use it to find Halo orbits.\n",
    "\n",
    "We make some standard imports:"
   ]
  },
  {
   "cell_type": "code",
   "execution_count": 1,
   "id": "8b2a7edb",
   "metadata": {},
   "outputs": [],
   "source": [
    "import heyoka as hy\n",
    "import numpy as np\n",
    "import time \n",
    "\n",
    "from scipy.optimize import root_scalar\n",
    "\n",
    "from matplotlib.pylab import plt"
   ]
  },
  {
   "cell_type": "markdown",
   "id": "5802736f",
   "metadata": {},
   "source": [
    "... and define some functions that will help later on to visuaalize our trajectories and make nice plots. (ignore them and come back to this later in case you are curious)"
   ]
  },
  {
   "cell_type": "code",
   "execution_count": 2,
   "id": "a6309475",
   "metadata": {},
   "outputs": [],
   "source": [
    "def compute_L_points(mu, f):\n",
    "    \"\"\"Computes The exact position of the Lagrangian points. To do so it finds the zeros of the\n",
    "    the dynamics equation for px.\n",
    "    \n",
    "        Args:\n",
    "            mu (float): The value of the mu parameter.\n",
    "            f (heyoka expression): The px dynamics equation.\n",
    "\n",
    "        Returns:\n",
    "            xL1, xL2, xL3, xL45, yL45: The coordinates of the various Lagrangian Points\n",
    "    \"\"\"\n",
    "    # Position of the lagrangian points approximated\n",
    "    xL1 = (mu-1) + (mu/3/(1-mu))**(1/3)\n",
    "    xL2 = (mu-1) - (mu/3/(1-mu))**(1/3)\n",
    "    xL3 = -(mu-1) - 7/12 * mu / (1-mu)\n",
    "    yL45 = np.sin(60/180*np.pi)\n",
    "    xL45 = -0.5 + mu\n",
    "\n",
    "    # Solve for the static equilibrium from the approximated solution\n",
    "    def equilibrium(expr, x,y):\n",
    "        retval = hy.eval(expr, {\"x\":x, \"y\":y, \"z\":0, \"px\":-y, \"py\":x, \"pz\":0}, [mu])\n",
    "        return retval\n",
    "    xL1 = root_scalar(lambda x: equilibrium(f, x,0.), x0=xL1,x1=xL1-1e-2).root\n",
    "    xL2 = root_scalar(lambda x: equilibrium(f, x,0.), x0=xL2,x1=xL2-1e-2).root\n",
    "    xL3 = root_scalar(lambda x: equilibrium(f, x,0.), x0=xL3,x1=xL3-1e-2).root;\n",
    "    return xL1, xL2, xL3, xL45, yL45\n",
    "\n",
    "def potential_function(position,mu):\n",
    "    \"\"\"Computes the system potential\n",
    "        Args:\n",
    "            position (array-like): The position in Cartesian coordinates\n",
    "            mu (float): The value of the mu parameter.\n",
    "\n",
    "        Returns:\n",
    "            The potential\n",
    "    \"\"\"\n",
    "    x,y,z=position\n",
    "    r_1=np.sqrt((x-mu)**2+y**2+z**2)\n",
    "    r_2=np.sqrt((x-mu+1)**2+y**2+z**2)\n",
    "    Omega=1./2.*(x**2+y**2)+(1-mu)/r_1+mu/r_2\n",
    "    return Omega\n",
    "\n",
    "def jacobi_constant(state,mu):\n",
    "    \"\"\"Computes the system Jacobi constant\n",
    "        Args:\n",
    "            state (array-like): The system state (x,y,z,px,py,pz)\n",
    "            mu (float): The value of the mu parameter.\n",
    "\n",
    "        Returns:\n",
    "            The Jacobi constant for the state\n",
    "    \"\"\"\n",
    "    x,y,z,px,py,pz=state\n",
    "    vx = px + y\n",
    "    vy = py - x\n",
    "    vz = pz\n",
    "    r_1=np.sqrt((x-mu)**2+y**2+z**2)\n",
    "    r_2=np.sqrt((x-mu+1)**2+y**2+z**2)\n",
    "    Omega=1/2*(x**2+y**2)+(1-mu)/r_1+mu/r_2\n",
    "    T=1/2*(vx**2+vy**2+vz**2)\n",
    "    C=Omega-T\n",
    "    return C"
   ]
  },
  {
   "cell_type": "markdown",
   "id": "5c23101e",
   "metadata": {},
   "source": [
    "## The Circular Restricted 3 Body Problem dynamics"
   ]
  },
  {
   "cell_type": "markdown",
   "id": "excited-uganda",
   "metadata": {},
   "source": [
    "Let us start defining the equations of motion for the Circular Restricted 3 Body Problem (CR3BP from now on). \n",
    "\n",
    "The problem is usually formulated in a rotating reference frame in which the two massive bodies are at rest. In the rotating reference frame, the equations of motion for the massless particle's cartesian coordinates $\\left(x, y, z\\right)$ and conjugated momenta $\\left(p_x, p_y, p_z\\right)$ read:\n",
    "\n",
    "$$\n",
    "\\begin{aligned}\n",
    "\\dot{x} & = p_x+y,\\\\\n",
    "\\dot{y} & = p_y-x, \\\\\n",
    "\\dot{z} & = p_z, \\\\\n",
    "\\dot{p}_x & = p_y - \\frac{1-\\mu}{r_{PS}^3}\\left( x - \\mu \\right)-\\frac{\\mu}{r_{PJ}^3}\\left( x - \\mu + 1\\right), \\\\\n",
    "\\dot{p}_y & = -p_x-\\left( \\frac{1-\\mu}{r_{PS}^3} +  \\frac{\\mu}{r_{PJ}^3}\\right)y, \\\\\n",
    "\\dot{p}_z & = -\\left( \\frac{1-\\mu}{r_{PS}^3} +  \\frac{\\mu}{r_{PJ}^3}\\right)z,\n",
    "\\end{aligned}\n",
    "$$\n",
    "\n",
    "where $\\mu$ is a mass parameter, $r_{PS}^2=\\left( x-\\mu \\right)^2+y^2+z^2$ and $r_{PJ}^2=\\left( x -\\mu + 1 \\right)^2+y^2+z^2$. \n",
    "\n",
    "NOTE: In this form the two masses $M_1$ and $M_2$ sum to 1. The biggest mass is $1-\\mu$, while the smallest is $\\mu$. The biggest mass is placed in $x = \\mu$ and the smallest in $x = \\mu-1$ so that the distance between primaries is 1. All remaining units are induced by these choices.\n",
    "\n",
    "We also refer to the whole state with the symbol $\\mathbf x = [x,y,z,p_x, p_y, p_z]$ and the right hand side of the dynamic equations with the symbol $\\mathbf f$. In general we use bold for vectors matrices and normal fonts for their components, hence $\\mathbf M$ will, as an example, have components $M_{ij}$.\n",
    "\n",
    "With respect to the heyoka.py notebook on [circular restricted three-body problem](<./The restricted three-body problem.ipynb>), we will be here making use of numpy arrays of heyoka expressions as to simplify the notation later on when we need to compute the variational equations."
   ]
  },
  {
   "cell_type": "code",
   "execution_count": 3,
   "id": "confused-excellence",
   "metadata": {},
   "outputs": [],
   "source": [
    "# Create the symbolic variables.\n",
    "symbols_state = [\"x\", \"y\", \"z\", \"px\", \"py\", \"pz\"]\n",
    "x = np.array(hy.make_vars(*symbols_state))\n",
    "# This will contain the r.h.s. of the equations\n",
    "f = []\n",
    "\n",
    "rps_32 = ((x[0] - hy.par[0])**2 + x[1]**2 + x[2]**2)**(-3/2.)\n",
    "rpj_32 = ((x[0] - hy.par[0]  + 1.)**2 + x[1]**2 + x[2]**2)**(-3/2.)\n",
    "\n",
    "# The equations of motion.\n",
    "f.append(x[3] + x[1])\n",
    "f.append(x[4] - x[0])\n",
    "f.append(x[5])\n",
    "f.append(x[4] - (1. - hy.par[0]) * rps_32 * (x[0] - hy.par[0]) - hy.par[0] * rpj_32 * (x[0] - hy.par[0] + 1.))\n",
    "f.append(-x[3] -((1. - hy.par[0]) * rps_32 + hy.par[0] * rpj_32) * x[1])\n",
    "f.append(-((1. - hy.par[0]) * rps_32 + hy.par[0] * rpj_32) * x[2])\n",
    "f = np.array(f)"
   ]
  },
  {
   "cell_type": "markdown",
   "id": "978a0065",
   "metadata": {},
   "source": [
    "## The variational equations"
   ]
  },
  {
   "cell_type": "markdown",
   "id": "23fb01fa",
   "metadata": {},
   "source": [
    "We now compute the variational equations expressing the state transition matrix defined as $\\delta \\mathbf x(t) = \\mathbf \\Phi(t)\\delta \\mathbf x(0)$. We define its $ij$ component as:\n",
    "$$\n",
    "\\Phi_{ij}(t) = \\frac{d x_i(t)}{dx_j(0)}\n",
    "$$\n",
    "hence the variational equations:\n",
    "$$\n",
    "\\frac{d }{dt} \\Phi_{ij}(t) = \\frac{d}{dt}\\left(\\frac{d x_i(t)}{dx_j(0)}\\right) = \\frac{d}{dx_j(0)}\\left(\\frac{d x_i(t)}{dt}\\right) = \\frac{d f_i(x(t))}{dx_j(0)}\n",
    "$$\n",
    "expanding the total derivative in the last term we get:\n",
    "$$\n",
    "\\frac{d}{dt}\\Phi_{ij}(t) = \\sum_k \\frac{\\partial f_i}{\\partial x_k}\\frac{dx_k(t)}{dx_j(0)}=\\sum_k \\frac{\\partial f_i}{\\partial x_k} \\Phi_{kj}(t)\n",
    "$$\n",
    "which can be written in compact matrix form as:\n",
    "$$\n",
    "\\frac{d}{dt}\\mathbf \\Phi(t) = \\left[\\frac{\\partial f_i}{\\partial x_k}\\right] \\mathbf \\Phi(t)\n",
    "$$\n",
    "Note that the initial conditions are, trivially: $\\mathbf \\Phi(0) = \\mathbf I$\n",
    "\n",
    "Let us then introduce these variational equations using heyoka.\n",
    "\n",
    "First, we define the various symbols for the components of the state transition matrix"
   ]
  },
  {
   "cell_type": "code",
   "execution_count": 4,
   "id": "76d34b7d",
   "metadata": {},
   "outputs": [],
   "source": [
    "symbols_phi = []\n",
    "for i in range(6):\n",
    "    for j in range(6):\n",
    "        # Here we define the symbol for the variations\n",
    "        symbols_phi.append(\"phi_\"+str(i)+str(j))  \n",
    "phi = np.array(hy.make_vars(*symbols_phi)).reshape((6,6))"
   ]
  },
  {
   "cell_type": "markdown",
   "id": "c03385dc",
   "metadata": {},
   "source": [
    "Then we find the various $\\left[\\frac{\\partial f_i}{\\partial x_k}\\right]$:"
   ]
  },
  {
   "cell_type": "code",
   "execution_count": 5,
   "id": "b1bd6632",
   "metadata": {},
   "outputs": [],
   "source": [
    "dfdx = []\n",
    "for i in range(6):\n",
    "    for j in range(6):\n",
    "        dfdx.append(hy.diff(f[i],x[j]))\n",
    "dfdx = np.array(dfdx).reshape((6,6))"
   ]
  },
  {
   "cell_type": "markdown",
   "id": "91426c62",
   "metadata": {},
   "source": [
    "... and finally the r.h.s. of the variational equations is:"
   ]
  },
  {
   "cell_type": "code",
   "execution_count": 6,
   "id": "4f3f2e07",
   "metadata": {},
   "outputs": [],
   "source": [
    "# The (variational) equations of motion\n",
    "dphidt = dfdx@phi"
   ]
  },
  {
   "cell_type": "markdown",
   "id": "deaa6499",
   "metadata": {},
   "source": [
    "how very very beautiful!"
   ]
  },
  {
   "cell_type": "markdown",
   "id": "ad47ad1a",
   "metadata": {},
   "source": [
    "## Putting all together and integrating some initial conditions\n",
    "Let us put all the equations 6 + 6x6 = 42 into one big taylor integrator and perform one numerical integration."
   ]
  },
  {
   "cell_type": "code",
   "execution_count": 7,
   "id": "65949284",
   "metadata": {},
   "outputs": [],
   "source": [
    "# We create the dynamics\n",
    "dyn = []\n",
    "for state, rhs in zip(x,f):\n",
    "    dyn.append((state, rhs))\n",
    "for state, rhs in zip(phi.reshape((36,)),dphidt.reshape((36,))):\n",
    "    dyn.append((state, rhs))\n",
    "# These are the initial conditions on the variational equations (the identity matrix)\n",
    "ic_var = np.eye(6).reshape((36,)).tolist()"
   ]
  },
  {
   "cell_type": "code",
   "execution_count": null,
   "id": "37433a60",
   "metadata": {},
   "outputs": [],
   "source": [
    "#  We instantiate the Taylor integrator (high accuracy and no compact mode)\n",
    "start_time = time.time()\n",
    "ta = hy.taylor_adaptive(\n",
    "    # The ODEs.\n",
    "    dyn,\n",
    "    # The initial conditions.\n",
    "    [-0.45, 0.80, 0.00, -0.80, -0.45, 0.58] + ic_var,\n",
    "    # Operate below machine precision\n",
    "    # and in high-accuracy mode.\n",
    "    tol = 1e-18, high_accuracy = True\n",
    ")\n",
    "print(\"--- %s seconds --- to build the Taylor integrator\" % (time.time() - start_time))"
   ]
  },
  {
   "cell_type": "code",
   "execution_count": null,
   "id": "c02c7bac",
   "metadata": {},
   "outputs": [],
   "source": [
    "# We perform and time a numerical propagation for these conditions\n",
    "ic = [-0.80, 0.0, 0, 0.0, -0.6276410653920693, 0.]\n",
    "t_final=200\n",
    "mu=0.01\n",
    "ta.pars[0] = mu\n",
    "# Reset the state\n",
    "ta.time = 0\n",
    "ta.state[:] = ic + ic_var\n",
    "# Time grid\n",
    "t_grid = np.linspace(0, t_final, 2000)\n",
    "# Go ...\n",
    "start_time = time.time()\n",
    "out = ta.propagate_grid(t_grid)\n",
    "print(\"--- %s seconds --- to propagate\" % (time.time() - start_time))\n",
    "\n"
   ]
  },
  {
   "cell_type": "markdown",
   "id": "67d3a6e3",
   "metadata": {},
   "source": [
    "... let us then plot the trajectory and some further cosmetics to visualize the solution"
   ]
  },
  {
   "cell_type": "code",
   "execution_count": null,
   "id": "51ae7e56",
   "metadata": {},
   "outputs": [],
   "source": [
    "plt.figure(figsize=(14,14))\n",
    "\n",
    "# Lets find the postiion of the lagrangian points\n",
    "xL1, xL2, xL3, xL45, yL45 = compute_L_points(mu, f[3])\n",
    "# We also compute the Jacobi constant\n",
    "C_jacobi = jacobi_constant(ic, mu)\n",
    "\n",
    "# Plot the trajectory (xy)\n",
    "plt.subplot(1,2,1)\n",
    "plt.plot(out[4][:, 0], out[4][:, 1])\n",
    "plt.xlabel(\"x\")\n",
    "plt.ylabel(\"y\")\n",
    "# Plot the zero velocity curve\n",
    "xx = np.linspace(-1.5,1.5,2000)\n",
    "yy = np.linspace(-1.5,1.5,2000)\n",
    "x_grid,y_grid = np.meshgrid(xx,yy)\n",
    "im = plt.imshow( ((potential_function((x_grid,y_grid,np.zeros(np.shape(x_grid))),mu=mu)<=C_jacobi)).astype(int) , \n",
    "                extent=(x_grid.min(),x_grid.max(),y_grid.min(),y_grid.max()),origin=\"lower\", cmap=\"Greens\")\n",
    "# Plot the lagrangian points and primaries\n",
    "plt.scatter(mu, 0, c='k', s=300)\n",
    "plt.scatter(mu-1, 0, c='k', s=150)\n",
    "plt.scatter(xL1, 0, c='r')\n",
    "plt.scatter(xL2, 0, c='r')\n",
    "plt.scatter(xL3, 0, c='r')\n",
    "plt.scatter(-0.5+mu, yL45, c='r')\n",
    "plt.scatter(-0.5+mu, -yL45, c='r')\n",
    "\n",
    "# Plot the trajectory (xz)\n",
    "plt.subplot(1,2,2)\n",
    "plt.plot(out[4][:, 0], out[4][:, 2])\n",
    "plt.xlabel(\"x\")\n",
    "plt.ylabel(\"z\");\n",
    "# Plot the zero velocity curve\n",
    "xx = np.linspace(-1.5,1.5,2000)\n",
    "zz = np.linspace(-1.5,1.5,2000)\n",
    "x_grid,z_grid = np.meshgrid(xx,zz)\n",
    "im = plt.imshow( ((potential_function((x_grid,np.zeros(np.shape(x_grid)), z_grid),mu=mu)<=C_jacobi)).astype(int) , \n",
    "                extent=(x_grid.min(),x_grid.max(),z_grid.min(),z_grid.max()),origin=\"lower\", cmap=\"Greens\")\n",
    "# Plot the lagrangian points and primaries\n",
    "plt.scatter(mu, 0, c='k', s=300)\n",
    "plt.scatter(mu-1, 0, c='k', s=150)\n",
    "plt.scatter(xL1, 0, c='r')\n",
    "plt.scatter(xL2, 0, c='r')\n",
    "plt.scatter(xL3, 0, c='r')\n",
    "plt.scatter(-0.5+mu, 0, c='r')\n",
    "plt.scatter(-0.5+mu, 0, c='r')"
   ]
  },
  {
   "cell_type": "markdown",
   "id": "001e24d2",
   "metadata": {},
   "source": [
    "## Finding Halo Orbits\n",
    "To find a periodic orbit in a dynamical system, a first step to then possibly find a whole family of them, we will proceed as follows:\n",
    "\n",
    "* Get some initial conditions by trial and error, else one can use the [Poincaré–Lindstedt method](https://en.wikipedia.org/wiki/Poincar%C3%A9%E2%80%93Lindstedt_method) or, in the specific case of the CR3BP, the work from Richardson).\n",
    "\n",
    "Richardson, D. L. (1980). Analytic construction of periodic orbits about the collinear points. Celestial mechanics, 22(3), 241-253.\n",
    "\n",
    "* Once some initial guess $\\mathbf x_0$ is available for the initial state an $T$ for the period, we may write the Taylor first order expansion of the system solution as:\n",
    "\n",
    "$$\n",
    "\\mathbf x = \\overline {\\mathbf x} + \\mathbf \\Phi \\delta \\mathbf x_0 + \\mathbf \\Phi_T \\delta T\n",
    "$$\n",
    "\n",
    "where $\\mathbf \\Phi = \\left[\\frac{\\partial x_i}{\\partial x_{0_k}}\\right] $ is computed via the variational equations, $\\mathbf \\Phi_T = \\left[\\frac{\\partial x_i}{\\partial t}\\right] = \\dot{\\mathbf x}$ and $\\overline {\\mathbf x}$ is the final state reached starting from $\\mathbf x_0$ and integrating for $T$.\n",
    "\n",
    "* Now (**pay attention, as here is the whole trick**), we write the periodicity condition enforcing that after $T+\\delta T$ the state will go back to $\\mathbf x_0 + \\delta \\mathbf x_0$:\n",
    "\n",
    "$$\n",
    "\\overline {\\mathbf x} + \\mathbf \\Phi \\delta \\mathbf x_0 + \\mathbf \\Phi_T \\delta T = \\mathbf x_0 + \\delta \\mathbf x_0\n",
    "$$\n",
    "\n",
    "which is rearranged in the form:\n",
    "\n",
    "$$\n",
    "\\left(\\mathbf \\Phi -\\mathbf I\\right) \\delta \\mathbf x_0 + \\mathbf \\Phi_T \\delta T = \\mathbf x_0 -\\overline {\\mathbf x}\n",
    "$$\n",
    "\n",
    "This fundamental relation is at the basis of any numerical algorithm that wants to find a closed periodic orbit. It is a system of 6 equation in the 7 unknowns $\\mathbf x, T$ (so it overdetermined) and the matrix $\\mathbf \\Phi-\\mathbf I$ is ill conditioned as $\\mathbf \\Phi$ will admit the eigenvalue 1 when the orbit is periodic (so when the algorithm converges).\n",
    "\n",
    "Let us implement a naive iterative scheme that closes some orbit. We will make the above system square by fixing the $x_0$ value (arbitrary decision, albeit clever decision), and we will ignore the problem of the matrix $\\mathbf \\Phi$ converging to a monodromy matrix and hence $\\mathbf \\Phi-\\mathbf I$ being singular.\n",
    "\n",
    "So, first we play to find a decent initial condition ...."
   ]
  },
  {
   "cell_type": "code",
   "execution_count": null,
   "id": "b6c18355",
   "metadata": {},
   "outputs": [],
   "source": [
    "# We plot the initial condition (zoom in the Lagrangian point)\n",
    "plt.figure(figsize=(9,9))\n",
    "\n",
    "plt.subplot(1,1,1)\n",
    "plt.plot(out[4][:, 0], out[4][:, 1])\n",
    "plt.xlabel(\"x\")\n",
    "plt.ylabel(\"y\")\n",
    "\n",
    "# Plot the zero velocity curve\n",
    "xx = np.linspace(-1.5,1.5,2000)\n",
    "yy = np.linspace(-1.5,1.5,2000)\n",
    "x_grid,y_grid = np.meshgrid(xx,yy)\n",
    "im = plt.imshow( ((potential_function((x_grid,y_grid,np.zeros(np.shape(x_grid))),mu=mu)<=C_jacobi)).astype(int) , \n",
    "                extent=(x_grid.min(),x_grid.max(),y_grid.min(),y_grid.max()),origin=\"lower\", cmap=\"Greens\")\n",
    "\n",
    "# Plot the lagrangian points and primaries\n",
    "plt.scatter(mu, 0, c='k', s=300)\n",
    "plt.scatter(mu-1, 0, c='k', s=100)\n",
    "plt.scatter(xL1, 0, c='r')\n",
    "plt.scatter(xL2, 0, c='r')\n",
    "plt.scatter(xL3, 0, c='r')\n",
    "plt.scatter(-0.5+mu, yL45, c='r')\n",
    "plt.scatter(-0.5+mu, -yL45, c='r')\n",
    "\n",
    "plt.xlim(xL1-0.001, xL1+0.001)\n",
    "plt.ylim(-0.001, +0.001)"
   ]
  },
  {
   "cell_type": "markdown",
   "id": "17c34fc7",
   "metadata": {},
   "source": [
    "The orbit is good but does not close! Lets build an iteration that corrects $y_0, z_0, px_0, py_0, pz_0, T$ as to close the orbit"
   ]
  },
  {
   "cell_type": "code",
   "execution_count": null,
   "id": "315d2a4e",
   "metadata": {},
   "outputs": [],
   "source": [
    "def step(ta, x0):\n",
    "    x0 = np.array(x0)\n",
    "    mu = ta.pars[0]\n",
    "    t_final = ta.time\n",
    "    \n",
    "    state_T = ta.state[:6]\n",
    "    state_T_dict = {\"x\":state_T[0], \"y\":state_T[1], \"z\":state_T[2], \"px\":state_T[3], \"py\":state_T[4], \"pz\":state_T[5]}\n",
    "    \n",
    "    Phi = ta.state[6:].reshape((6,6))\n",
    "    PhiT = np.array([hy.eval(f[i], state_T_dict, [mu]) for i in range(6)]).reshape((-1,1))\n",
    "\n",
    "    A = np.concatenate((Phi-np.eye(6),PhiT), axis=1)\n",
    "    Ar = A[:,[1,2,3,4,5,6]]\n",
    "    b = (x0 - state_T).reshape(-1,1)\n",
    "    print(\"error is:\", np.linalg.norm(b))\n",
    "    \n",
    "    delta = np.linalg.inv(Ar)@b\n",
    "    print(\"condition number is:\", np.linalg.cond(Ar))\n",
    "    \n",
    "    x0_new = np.array([x0[0], x0[1]+delta[0,0], x0[2]+delta[1,0], x0[3]+delta[2,0], x0[4]+delta[3,0], x0[5]+delta[4,0]])\n",
    "    t_final = t_final+delta[-1,0]\n",
    "\n",
    "    # Reset the state\n",
    "    ta.time = 0.\n",
    "    ta.state[:] = x0_new.tolist() + ic_var\n",
    "    # Go ...\n",
    "    ta.propagate_until(t_final)\n",
    "    return ta, x0_new.tolist()"
   ]
  },
  {
   "cell_type": "code",
   "execution_count": null,
   "id": "719eda46",
   "metadata": {},
   "outputs": [],
   "source": [
    "new_ic = [ic_cart[0], ic_cart[1], ic_cart[2], ic_cart[3]- ic_cart[1], ic_cart[4] + ic_cart[0], ic_cart[5]]\n",
    "for i in range(4):\n",
    "    ta, new_ic = step(ta, new_ic)"
   ]
  },
  {
   "cell_type": "markdown",
   "id": "b1400752",
   "metadata": {},
   "source": [
    " .... et voila'!! As expected the iterations converge to a periodic orbit, while the matric condition number goes to infinite as $\\mathbf \\Phi$ becomes a monodromy matrix.\n",
    " \n",
    "Of course, we now visualize the orbit as to make sure its closed!"
   ]
  },
  {
   "cell_type": "code",
   "execution_count": null,
   "id": "e5769402",
   "metadata": {},
   "outputs": [],
   "source": [
    "t_final = ta.time\n",
    "\n",
    "# We compute  the IC Jacobi constant\n",
    "C_jacobi = jacobi_constant(new_ic, mu)\n",
    "\n",
    "# Reset the state\n",
    "ta.time = 0.\n",
    "ta.state[:] = new_ic + ic_var\n",
    "ta.pars[0] = mu\n",
    "# Time grid\n",
    "t_grid = np.linspace(0, t_final, 2000)\n",
    "# Go ...\n",
    "out = ta.propagate_grid(t_grid)\n",
    "\n",
    "# And plot\n",
    "plt.figure(figsize=(9,9))\n",
    "\n",
    "plt.subplot(1,1,1)\n",
    "plt.plot(out[4][:, 0], out[4][:, 1])\n",
    "plt.xlabel(\"x\")\n",
    "plt.ylabel(\"y\")\n",
    "\n",
    "# Plot the zero velocity curve\n",
    "xx = np.linspace(-1.5,1.5,2000)\n",
    "yy = np.linspace(-1.5,1.5,2000)\n",
    "x_grid,y_grid = np.meshgrid(xx,yy)\n",
    "im = plt.imshow( ((potential_function((x_grid,y_grid,np.zeros(np.shape(x_grid))),mu=mu)<=C_jacobi)).astype(int) , \n",
    "                extent=(x_grid.min(),x_grid.max(),y_grid.min(),y_grid.max()),origin=\"lower\", cmap=\"Greens\")\n",
    "\n",
    "# Plot the lagrangian points and primaries\n",
    "plt.scatter(mu, 0, c='k', s=300)\n",
    "plt.scatter(mu-1, 0, c='k', s=100)\n",
    "plt.scatter(xL1, 0, c='r')\n",
    "plt.scatter(xL2, 0, c='r')\n",
    "plt.scatter(xL3, 0, c='r')\n",
    "plt.scatter(-0.5+mu, yL45, c='r')\n",
    "plt.scatter(-0.5+mu, -yL45, c='r')\n",
    "\n",
    "plt.xlim(xL1-0.001, xL1+0.001)\n",
    "plt.ylim(-0.001, +0.001)"
   ]
  }
 ],
 "metadata": {
  "kernelspec": {
   "display_name": "Python 3 (ipykernel)",
   "language": "python",
   "name": "python3"
  },
  "language_info": {
   "codemirror_mode": {
    "name": "ipython",
    "version": 3
   },
   "file_extension": ".py",
   "mimetype": "text/x-python",
   "name": "python",
   "nbconvert_exporter": "python",
   "pygments_lexer": "ipython3",
   "version": "3.8.13"
  }
 },
 "nbformat": 4,
 "nbformat_minor": 5
}
