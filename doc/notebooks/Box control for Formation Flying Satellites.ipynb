{
 "cells": [
  {
   "cell_type": "markdown",
   "id": "miniature-sydney",
   "metadata": {},
   "source": [
    "# Box control in satellite Formation Flying \n",
    "\n",
    "We are here interested in showing how *heyoka.py* event detection machine can be used in an innovative formulation of the box-control problem for formation flying satellites. This is the problem of controlling a Deputy satellite to remain within a predefined control box defined in the Local Horizontal Local Vertical frame of the Chief satellite.\n",
    "\n",
    "To derive all equations we used and abused the [Vectrix notation from Hugues](https://vatankhahghadim.github.io/AER506/Notes/1%20-%20Fundamentals.pdf).\n",
    "\n",
    "## Preliminaries\n",
    "We consider the fundamental problem of satellite formation flying. A main satellite called Chief orbits some primary body (here the Earth). We consider two reference frames. $\\mathcal F_i=\\left[\\hat{\\mathbf e}_i, \\hat{\\mathbf e}_j, \\hat{\\mathbf e}_k \\right]$ is the inertial frame where the motion of both satellites will be described, while $\\mathcal F_L=\\left[\\hat{\\mathbf e}_r, \\hat{\\mathbf e}_\\theta, \\hat{\\mathbf e}_h \\right]$ is the Local Horizontal Local Vertical frame referred to the Chief satellite. Its definition in terms of the Chief satellite position $\\overrightarrow{\\mathbf r}$ and velocity $\\overrightarrow{\\mathbf v}$ is:\n",
    "\n",
    "$$\n",
    "\\left\\{\n",
    "\\begin{array}{ll}\n",
    "\\hat{\\mathbf e}_r &= \\frac{\\overrightarrow{\\mathbf r}}{r} \\\\\n",
    "\\hat{\\mathbf e}_\\theta &= \\hat{\\mathbf e}_h \\times \\hat{\\mathbf e}_r\\\\ \n",
    "\\hat{\\mathbf e}_h &= \\frac{\\overrightarrow{\\mathbf r} \\times {\\overrightarrow{\\mathbf v}}} {\\vert\\overrightarrow{\\mathbf r} \\times {\\overrightarrow{\\mathbf v}}\\vert}\n",
    "\\end{array}\n",
    "\\right.\n",
    "$$\n",
    "\n",
    "We indicate with capital letters $X,Y,Z$ the components of the satellite position vector in the frame $\\mathcal F_i$, we introduce the quantities $r = \\vert\\overrightarrow{\\mathbf r}\\vert$, $r = \\vert\\overrightarrow{\\mathbf h}\\vert$ and $\\sigma = \\overrightarrow{\\mathbf r}\\cdot \\overrightarrow{\\mathbf v}$ and write the rotation matrix $\\mathbf C_{Li} = \\mathcal F_L^T \\cdot \\mathcal F_i$ for the LHLV frame:\n",
    "\n",
    "\\begin{equation}\n",
    "    \\label{eq:rotation}\n",
    "\\mathbf C_{Li} = \n",
    "\\frac{1}{hr}\\left[\n",
    "\\begin{array}{ccc}\n",
    "hX & hY & hZ \\\\\n",
    "r^2\\dot X - \\sigma X & r^2\\dot Y - \\sigma Y & r^2\\dot Z - \\sigma Z \\\\\n",
    "r(Y\\dot Z - Z\\dot Y) & r(Z\\dot X - X\\dot Z) & r(X\\dot Y - Y\\dot X) \\\\\n",
    "\\end{array}\n",
    "\\right]\n",
    "\\end{equation}\n",
    "\n",
    "which allows to find the $\\mathcal F_i$ components of a vector $\\mathbf v_i$ from its $\\mathcal F_L$ components as $\\mathbf v_i = \\mathbf C_{Li} \\mathbf v_L$. The angular velocity of the LHLV frame is:\n",
    "\n",
    "$$\n",
    "\\overrightarrow{\\boldsymbol \\omega} = \\mathcal F_L \\boldsymbol \\omega_L = \n",
    "\\left[\\hat{\\mathbf e}_r, \\hat{\\mathbf e}_\\theta, \\hat{\\mathbf e}_h \\right]\n",
    "\\left[\n",
    "\\begin{array}{l}\n",
    "\\omega_x\\\\\n",
    "\\omega_y\\\\\n",
    "\\omega_z\\\\\n",
    "\\end{array}\n",
    "\\right] = \n",
    "\\left[\\hat{\\mathbf e}_r, \\hat{\\mathbf e}_\\theta, \\hat{\\mathbf e}_h \\right]\n",
    "\\left[\n",
    "\\begin{array}{l}\n",
    "\\frac rh  f_h\\\\\n",
    "0 \\\\\n",
    "\\frac{h}{r^2}\n",
    "\\end{array}\n",
    "\\right]\n",
    "$$\n",
    "\n",
    "where $f_h$ is the perturbative acceleration acting on the satellite along the $\\hat{\\mathbf e}_h$ direction.\n",
    "\n",
    "## The Equations of Motion\n",
    "We consider the dynamics of both the Chief and the Deputy expressed in terms of their position and velocity in $\\mathcal F_i$ and subject to the J2 term only (the expression of additional terms for the Earth gravitational potential can be found [here]((https://space.stackexchange.com/questions/22266/j2-long-period-perturbations-in-the-inclination)):\n",
    "\n",
    "$$\n",
    "\\left\\{\n",
    "\\begin{array}{ll}\n",
    "\\ddot X_C &= -\\frac \\mu{r_C^3}X_C + c\\frac 1{r_C^5} \\left(5\\frac{Z_C^2}{r_C^2}-1 \\right) X_C\\\\\n",
    "\\ddot Y_C &= -\\frac \\mu{r_C^3}Y_C + c\\frac 1{r_C^5} \\left(5\\frac{Z_C^2}{r_C^2}-1 \\right) Y_C\\\\ \n",
    "\\ddot Z_C &= -\\frac \\mu{r_C^3}Z_C + c\\frac 1{r_C^5} \\left(5\\frac{Z_C^2}{r_C^2}-1 \\right) Z_C - 2c\\frac 1{r_C^5} Z_C\\\\\n",
    "\\ddot X_D &= -\\frac \\mu{r_D^3}X_D + c\\frac 1{r_D^5} \\left(5\\frac{Z_D^2}{r_D^2}-1 \\right) X_D\\\\\n",
    "\\ddot Y_D &= -\\frac \\mu{r_D^3}Y_D + c\\frac 1{r_D^5} \\left(5\\frac{Z_D^2}{r_D^2}-1 \\right) Y_D\\\\ \n",
    "\\ddot Z_D &= -\\frac \\mu{r_D^3}Z_D + c\\frac 1{r_D^5} \\left(5\\frac{Z_D^2}{r_D^2}-1 \\right) Z_D - 2c\\frac 1{r_D^5} Z_D\\\\\n",
    "\\end{array}\n",
    "\\right.\n",
    "$$\n",
    "\n",
    "## The Initial conditions\n",
    "The initial conditions for the Chief satellite can be generic and are given in the $\\mathcal F_i$ frame. The initial conditions for the Deputy, instead, are given in the $\\mathcal F_L$ frame,. This simple fact couples the system breaking the symmetry of the equations of motion written above. Expressing the relative position and velocity as absolute and viceversa requires the use of $\\mathbf C_{Li}$, and most importantly of $\\omega_L$ which is, in turn, affected by the perturbative accelerations acting on the Chief. The following transformations hold:\n",
    "\n",
    "\\begin{equation}\n",
    "\\begin{array}{ll}\n",
    "\\left[\n",
    "\\begin{array}{l}\n",
    " X_D\\\\\n",
    " Y_D \\\\\n",
    " Z_D\n",
    "\\end{array}\n",
    "\\right] &= \n",
    "\\left[\n",
    "\\begin{array}{l}\n",
    " X_C\\\\\n",
    " Y_C \\\\\n",
    " Z_C\n",
    "\\end{array}\n",
    "\\right]+\n",
    "\\mathbf C_{Li}^T \\left[\n",
    "\\begin{array}{l}\n",
    " x\\\\\n",
    " y \\\\\n",
    " z\n",
    "\\end{array}\n",
    "\\right]\n",
    "\\\\\n",
    "\\left[\n",
    "\\begin{array}{l}\n",
    "\\dot X_D\\\\\n",
    "\\dot Y_D \\\\\n",
    "\\dot Z_D\n",
    "\\end{array}\n",
    "\\right] &= \n",
    "\\left[\n",
    "\\begin{array}{l}\n",
    "\\dot X_C\\\\\n",
    "\\dot Y_C \\\\\n",
    "\\dot Z_C\n",
    "\\end{array}\n",
    "\\right]+\n",
    "\\mathbf C_{Li}^T \\left[\n",
    "\\begin{array}{l}\n",
    " \\dot x\\\\\n",
    " \\dot y \\\\\n",
    " \\dot z\n",
    "\\end{array}\n",
    "\\right]\n",
    "+ \\mathbf C_{Li}^T \\boldsymbol w_L^\\times \\left[\\begin{array}{l}\n",
    " x\\\\\n",
    " y \\\\\n",
    " z\n",
    "\\end{array}\n",
    "\\right]\n",
    "\\end{array}\n",
    "\\end{equation}\n",
    "\n",
    "where we have indicated with small letters $x,y,z$ the components of the relative position vector of the Deputy.\n",
    "\n",
    "We can now start to code this in *heyoka.py*, we will introduce later the control part of the problem."
   ]
  },
  {
   "cell_type": "code",
   "execution_count": null,
   "id": "settled-indian",
   "metadata": {},
   "outputs": [],
   "source": [
    "# The usual main imports\n",
    "import heyoka as hy\n",
    "import numpy as np\n",
    "\n",
    "%matplotlib notebook\n",
    "import numpy as np\n",
    "import matplotlib.pyplot as plt"
   ]
  },
  {
   "cell_type": "markdown",
   "id": "checked-token",
   "metadata": {},
   "source": [
    "We start writing down the Equation of Motion (EOM):"
   ]
  },
  {
   "cell_type": "code",
   "execution_count": null,
   "id": "anonymous-explorer",
   "metadata": {},
   "outputs": [],
   "source": [
    "# The state (using km as unit length)\n",
    "xC, yC, zC, vxC, vyC, vzC, xD, yD, zD, vxD, vyD, vzD, = hy.make_vars(\"xC\", \"yC\", \"zC\", \"vxC\", \"vyC\", \"vzC\", \"xD\", \"yD\", \"zD\", \"vxD\", \"vyD\", \"vzD\")\n",
    "\n",
    "# Parameters\n",
    "mu = 398600.4418 #km^3/sec^2 \n",
    "J2 = 1082.645E-6\n",
    "Re = 6371 #km\n",
    "c = 3./2. * J2*mu*Re**2\n",
    "\n",
    "# Auxiliary variables\n",
    "rC2 = xC**2+yC**2+zC**2\n",
    "rD2 = xD**2+yD**2+zD**2\n",
    "\n",
    "# EOM \n",
    "# Chief\n",
    "dxC = vxC\n",
    "dyC = vyC\n",
    "dzC = vzC\n",
    "dvxC = (- mu * xC/rC2 - c * xC / rC2**2 * (1 - 5*zC**2/rC2)) / hy.sqrt(rC2)\n",
    "dvyC = (- mu * yC/rC2 - c * yC / rC2**2 * (1 - 5*zC**2/rC2)) / hy.sqrt(rC2)\n",
    "dvzC = (- mu * zC/rC2 - c * zC / rC2**2 * (3 - 5*zC**2/rC2)) / hy.sqrt(rC2)\n",
    "\n",
    "# Deputy\n",
    "dxD = vxD\n",
    "dyD = vyD\n",
    "dzD = vzD\n",
    "dvxD = (- mu * xD/rD2 - c * xD / rD2**2 * (1 - 5*zD**2/rD2)) / hy.sqrt(rD2)\n",
    "dvyD = (- mu * yD/rD2 - c * yD / rD2**2 * (1 - 5*zD**2/rD2)) / hy.sqrt(rD2)\n",
    "dvzD = (- mu * zD/rD2 - c * zD / rD2**2 * (3 - 5*zD**2/rD2)) / hy.sqrt(rD2)\n",
    "\n",
    "# Equations\n",
    "eqns = [(xC, dxC), (yC, dyC), (zC, dzC), (vxC, dvxC), (vyC, dvyC), (vzC, dvzC), (xD, dxD), (yD, dyD), (zD, dzD), (vxD, dvxD), (vyD, dvyD), (vzD, dvzD)]"
   ]
  },
  {
   "cell_type": "markdown",
   "id": "sharp-opportunity",
   "metadata": {},
   "source": [
    "And some helper functions allowing conversions between inertial and LHLV frames:"
   ]
  },
  {
   "cell_type": "code",
   "execution_count": null,
   "id": "beginning-picture",
   "metadata": {},
   "outputs": [],
   "source": [
    "def compute_LHLV_rot(state, fh):\n",
    "    \"\"\"Computes the rotation matrix C from inertial to LHLV. i.e. v_{LHLV} = C v_{inertial} \n",
    "    and the angular velocity of the LHLV frame\n",
    "    \n",
    "    Args:\n",
    "        state (1D np.array): the satellite state in the inertial frame\n",
    "        fh (float): disturbance acting on the satellite along the i_h axis (aligned with angular momentum)\n",
    "\n",
    "    Returns:\n",
    "        np.matrix (3x3): the rotation matrix\n",
    "        np.matrix (3x1): the angular velocity\n",
    "    \"\"\"\n",
    "    # We dispatch to the correct implementation of sqrt according to the state type\n",
    "    if type(state[0]) == type(xC):\n",
    "        sqrt = hy.sqrt\n",
    "        zero = hy.expression(0)\n",
    "    else:\n",
    "        sqrt = np.sqrt\n",
    "        state_type = float\n",
    "        zero = 0.\n",
    "    # Rotation Matrix\n",
    "    X, Y, Z, DX, DY, DZ = state\n",
    "    r2 = X*X+Y*Y+Z*Z\n",
    "    r = sqrt(r2)\n",
    "    h2 = (Y*DZ-Z*DY)**2 + (Z*DX-X*DZ)**2 + (X*DY-Y*DX)**2\n",
    "    h = sqrt(h2)\n",
    "    sigma = X*DX+Y*DY+Z*DZ\n",
    "    retval1 = np.matrix([[h*X, h*Y, h*Z], [r2*DX-sigma*X, r2*DY-sigma*Y, r2*DZ-sigma*Z], [r*(Y*DZ-Z*DY), r*(Z*DX-X*DZ), r*(X*DY-Y*DX)]]) / h / r\n",
    "    \n",
    "    # Angular velocity\n",
    "    retval2 = np.matrix([[r/h*fh],[zero],[h/r2]])\n",
    "    \n",
    "    return retval1, retval2\n",
    "\n",
    "def to_relative(stateC, stateD, fh):\n",
    "    \"\"\"Transforms the state of the Deputy to the LHLV frame attached to the Chief\n",
    "    \n",
    "    Args:\n",
    "        stateC (1D np.array): the Chief state in the inertial frame \n",
    "        stateD (1D np.array): the Deputy state in the inertial frame\n",
    "        fh (float): disturbance acting on the Chief satellite along the i_h axis (aligned with angular momentum)\n",
    "\n",
    "    Returns:\n",
    "        np.array, np.array: r,v in the LHLV frame\n",
    "    \"\"\"\n",
    "    # We reshape the input state into column vectors and alike\n",
    "    X, Y, Z, DX, DY, DZ = stateC\n",
    "    XD, YD, ZD, DXD, DYD, DZD = stateD\n",
    "    rC = np.matrix([[X],[Y],[Z]])\n",
    "    rD = np.matrix([[XD],[YD],[ZD]])\n",
    "    vC = np.matrix([[DX],[DY],[DZ]])\n",
    "    vD = np.matrix([[DXD],[DYD],[DZD]])\n",
    "    # We compute the LHLV rotation matrix and angular velocity\n",
    "    C, omega = compute_LHLV_rot(stateC, fh)\n",
    "    # We compute the relative state\n",
    "    xD = C * (rD - rC)\n",
    "    dxD = C * (vD - vC) - np.cross(omega.transpose(), xD.transpose()).transpose()\n",
    "    return [xD[0,0], xD[1,0], xD[2,0], dxD[0,0], dxD[1,0], dxD[2,0]]\n",
    "    \n",
    "    \n",
    "def to_absolute(stateC, stateD, fh):\n",
    "    \"\"\"Transforms the state of the Deputy to the inertial frame\n",
    "    \n",
    "    Args:\n",
    "        stateC (1D np.array): the Chief state in the inertial frame \n",
    "        stateD (1D np.array): the Deputy state in the LHLV frame attached to the Chief\n",
    "        fh (float): disturbance acting on the Chief satellite along the i_h axis (aligned with angular momentum)\n",
    "\n",
    "    Returns:\n",
    "        np.array, np.array: r,v in the LHLV frame\n",
    "    \"\"\"\n",
    "    # We reshape the input state into column vectors and alike\n",
    "    X, Y, Z, DX, DY, DZ = stateC\n",
    "    x, y, z, dx, dy, dz = stateD\n",
    "    rC = np.matrix([[X],[Y],[Z]])\n",
    "    xD = np.matrix([[x],[y],[z]])\n",
    "    vC = np.matrix([[DX],[DY],[DZ]])\n",
    "    dxD = np.matrix([[dx],[dy],[dz]])\n",
    "    # We compute the LHLV rotation matrix and angular velocity\n",
    "    C, omega = compute_LHLV_rot(stateC, fh)\n",
    "    C = C.transpose()\n",
    "    # We compute the absolute state\n",
    "    rD = rC + C * xD\n",
    "    vD = vC + C * (dxD + np.cross(omega.transpose(), xD.transpose()).transpose())\n",
    "    return [rD[0,0], rD[1,0], rD[2,0], vD[0,0], vD[1,0], vD[2,0]]\n",
    "\n",
    "def J2_LHLV(state, c):\n",
    "    \"\"\"Computes the J2 perturbation in the LHLV frame\n",
    "    \n",
    "    Args:\n",
    "        state (1D np.array): the state in the inertial frame \n",
    "        c (float): the constant 3/2 * J2 * mu * Re**2\n",
    "        \n",
    "    Returns:\n",
    "        np.array: the resulting J2 perturbation in the LHLV frame\n",
    "    \"\"\"\n",
    "    # We dispatch to the correct implementation of sqrt according to the state type\n",
    "    if type(state[0]) == type(xC):\n",
    "        sqrt = hy.sqrt\n",
    "        state_type = object\n",
    "    else:\n",
    "        sqrt = np.sqrt\n",
    "        state_type = float\n",
    "        \n",
    "    X, Y, Z, DX, DY, DZ = state\n",
    "    r2 = X*X+Y*Y+Z*Z\n",
    "    r = sqrt(r2)\n",
    "    h2 = (Y*DZ-Z*DY)**2 + (Z*DX-X*DZ)**2 + (X*DY-Y*DX)**2\n",
    "    h = sqrt(h2)\n",
    "    sigma = X*DX+Y*DY+Z*DZ\n",
    "    return np.array([c/r2**2*(3*Z/r2-1), -2*c/h/r2**3*Z*(r2*DZ-sigma*Z), - 2*c/h/r2**2/r*Z*(X*DY-Y*DX)], dtype = state_type)"
   ]
  },
  {
   "cell_type": "markdown",
   "id": "administrative-difference",
   "metadata": {},
   "source": [
    "## Testing the Adaptive Taylor Integration and plotting the trajectories\n",
    "Lets visualize the solution of the numerical integration in the LHLV frame for the Deputy and in the inertial frame for the Chief.\n",
    "\n",
    "We use, as reference orbit for the Chief, a circular orbit at 300km of altitude and an inclination of 70 degrees. The deputy is set to follow behind in the LHLV frame at a distance of 1km. We also add 1m offset in the z direction to make the problem third dimension count."
   ]
  },
  {
   "cell_type": "code",
   "execution_count": null,
   "id": "australian-setting",
   "metadata": {},
   "outputs": [],
   "source": [
    "# Chief Orbit\n",
    "incl = 70/180*np.pi\n",
    "h = 300\n",
    "a = Re+h\n",
    "# Deputy orbit\n",
    "trailing = -1.\n",
    "hover = 0.\n",
    "# Initial Conditions for the Chief\n",
    "chief_ic = [a,0.,0.,0.,np.sqrt(mu/a)*np.cos(incl),np.sqrt(mu/a)*np.sin(incl)]\n",
    "# Initial Conditions for the Deputy (we start in the LHLV frame)\n",
    "deputy_ic_r = [0., trailing, hover, 0., 0., 0.000001]\n",
    "fh = J2_LHLV(chief_ic, c)[2]\n",
    "# Initial Conditions for the Chief (in the inertial frame)\n",
    "deputy_ic = to_absolute(chief_ic, deputy_ic_r, fh)\n"
   ]
  },
  {
   "cell_type": "markdown",
   "id": "ae7713c3",
   "metadata": {},
   "source": [
    "we are now able to instantiate the the Taylor integrator:"
   ]
  },
  {
   "cell_type": "code",
   "execution_count": null,
   "id": "bc45c30c",
   "metadata": {},
   "outputs": [],
   "source": [
    "# The Taylor integrator\n",
    "ta = hy.taylor_adaptive(eqns, chief_ic + deputy_ic)"
   ]
  },
  {
   "cell_type": "markdown",
   "id": "7e06721e",
   "metadata": {},
   "source": [
    "and to perform the integration:"
   ]
  },
  {
   "cell_type": "code",
   "execution_count": null,
   "id": "minute-paradise",
   "metadata": {},
   "outputs": [],
   "source": [
    "# As a test we propagate for 10 orbits\n",
    "# Number of points in the time grid\n",
    "N = 1500\n",
    "t_grid = np.linspace(0, 20*np.pi*np.sqrt(a**3/mu), N)\n",
    "# Propagate and return the state at the grid points\n",
    "oc, _, _, _, res = ta.propagate_grid(t_grid)"
   ]
  },
  {
   "cell_type": "markdown",
   "id": "adbca189",
   "metadata": {},
   "source": [
    "Since we wrote the equation in the inertial frame we need to retreive the Deputy state in the LHL frame:"
   ]
  },
  {
   "cell_type": "code",
   "execution_count": null,
   "id": "neutral-appendix",
   "metadata": {},
   "outputs": [],
   "source": [
    "# We compute the results in the LHLV frame for the Deputy\n",
    "deputy_rel = np.zeros((N,6))\n",
    "for i, item in enumerate(res):\n",
    "    fh = J2_LHLV(item[:6], c)[2]\n",
    "    deputy_rel[i] = to_relative(item[:6], item[6:], fh)"
   ]
  },
  {
   "cell_type": "markdown",
   "id": "affebee1",
   "metadata": {},
   "source": [
    "We can finally plot the resulting orbit:"
   ]
  },
  {
   "cell_type": "code",
   "execution_count": null,
   "id": "recognized-engineer",
   "metadata": {},
   "outputs": [],
   "source": [
    "# And plot\n",
    "fig = plt.figure(figsize = (9,9))\n",
    "ax1 = fig.add_subplot(1, 2, 1, projection='3d')\n",
    "ax2 = fig.add_subplot(1, 2, 2, projection='3d')\n",
    "\n",
    "ax1.plot3D(res[:, 0], res[:, 1], res[:, 2])\n",
    "ax1.set_title(\"Chief (inertial frame)\")\n",
    "ax2.plot3D(deputy_rel[:, 0], deputy_rel[:, 1], deputy_rel[:, 2])\n",
    "ax2.set_title(\"Deputy (LHLV frame)\");\n"
   ]
  },
  {
   "cell_type": "markdown",
   "id": "bdb24819",
   "metadata": {},
   "source": [
    "## Controlling the formation within a predefined box\n",
    "Now that we have established the equation of motion, we can simulate a box-control strategy. \n",
    "In essence, we want to keep the Deputy within a box centered around its initial trailing position and of a predefined size.\n",
    "\n",
    "To do so, each time the box border is reached, we will apply a $\\Delta V$ flipping the relative velocity component along the corresponding axis, thus keeping the Deputy within the desired box.\n",
    "\n",
    "First we write the callback which will flip the velocity and update the $\\Delta V$ count."
   ]
  },
  {
   "cell_type": "code",
   "execution_count": null,
   "id": "protecting-waterproof",
   "metadata": {},
   "outputs": [],
   "source": [
    "# This callback flips the selected component (x = 3, y = 4, z = 5)\n",
    "# of the relative velocity\n",
    "def cb_flip_rel_component(ta, mr, component):\n",
    "    global DV\n",
    "    # Compute the perturbation effect on w\n",
    "    fh = J2_LHLV(ta.state[:6], c)[2]\n",
    "    # Getting the relative state of the Deputy\n",
    "    rel_state = to_relative(ta.state[:6], ta.state[6:], fh)\n",
    "    # Flipping the corresponding component\n",
    "    rel_state[component] = -rel_state[component]\n",
    "    # Getting the absolute state back\n",
    "    new_abs_state = to_absolute(ta.state[:6], rel_state, fh)\n",
    "    # Updating the Tatlor integrator internal state\n",
    "    ta.state[6:] = new_abs_state\n",
    "    # Updating the DV count\n",
    "    DV+=2*np.abs(rel_state[component])\n",
    "    return True"
   ]
  },
  {
   "cell_type": "markdown",
   "id": "0b4410ef",
   "metadata": {},
   "source": [
    "We then define the various events triggering when the box boundary is reached. Since the control box is defined in the LHLV frame, we first need to compute the expressions of the relative state as a function of the absolute state."
   ]
  },
  {
   "cell_type": "code",
   "execution_count": null,
   "id": "acoustic-lewis",
   "metadata": {},
   "outputs": [],
   "source": [
    "# The size of the control box is 2 meters\n",
    "box_size = 0.001"
   ]
  },
  {
   "cell_type": "code",
   "execution_count": null,
   "id": "593897ec",
   "metadata": {},
   "outputs": [],
   "source": [
    "# We compute the expressions for the relative state as a function of the absolute state.\n",
    "fh_sym = J2_LHLV([xC, yC, zC, vxC, vyC, vzC], c)[2]\n",
    "state_rel_sym = to_relative([xC, yC, zC, vxC, vyC, vzC],[xD, yD, zD, vxD, vyD, vzD], fh_sym)\n",
    "\n",
    "# We define one event per cube side\n",
    "ev_left = hy.t_event(state_rel_sym[0]  - box_size / 2, callback = lambda ta, mr: cb_flip_rel_component(ta, mr, 3), direction=hy.event_direction.positive)\n",
    "ev_right = hy.t_event(state_rel_sym[0] + box_size / 2, callback = lambda ta, mr: cb_flip_rel_component(ta, mr, 3), direction=hy.event_direction.negative)\n",
    "ev_front = hy.t_event(state_rel_sym[1] - trailing - box_size / 2, callback = lambda ta, mr: cb_flip_rel_component(ta, mr, 4), direction=hy.event_direction.positive)\n",
    "ev_back = hy.t_event(state_rel_sym[1] - trailing + box_size / 2, callback = lambda ta, mr: cb_flip_rel_component(ta, mr, 4), direction=hy.event_direction.negative)\n",
    "ev_top = hy.t_event(state_rel_sym[2] - hover - box_size / 2, callback = lambda ta, mr: cb_flip_rel_component(ta, mr, 5), direction=hy.event_direction.positive)\n",
    "ev_bottom = hy.t_event(state_rel_sym[2] - hover + box_size / 2, callback = lambda ta, mr: cb_flip_rel_component(ta, mr, 5), direction=hy.event_direction.negative)\n",
    "\n",
    "# We put all the control box events in a list as to pass them to the adaptive Taylor constructor.\n",
    "box_events = [ev_top, ev_bottom, ev_front, ev_back, ev_left, ev_right]"
   ]
  },
  {
   "cell_type": "markdown",
   "id": "94d6645d",
   "metadata": {},
   "source": [
    "Finally we can instantiate the Taylor integrator"
   ]
  },
  {
   "cell_type": "code",
   "execution_count": null,
   "id": "attempted-debut",
   "metadata": {},
   "outputs": [],
   "source": [
    "ta = hy.taylor_adaptive(eqns, chief_ic + deputy_ic, t_events=box_events)"
   ]
  },
  {
   "cell_type": "markdown",
   "id": "f3bfb02e",
   "metadata": {},
   "source": [
    "And propagate, taking care to reset first the $\\Delta V$ count"
   ]
  },
  {
   "cell_type": "code",
   "execution_count": null,
   "id": "revolutionary-ocean",
   "metadata": {
    "scrolled": true
   },
   "outputs": [],
   "source": [
    "# Resetting the DV counter\n",
    "DV = 0\n",
    "# We propagate 10 orbits as done above\n",
    "N = 1500\n",
    "t_grid = np.linspace(0, 20.*np.pi*np.sqrt(a**3/mu), N)\n",
    "#t_grid = np.linspace(0, 900, N)\n",
    "oc, _, _, _, res = ta.propagate_grid(t_grid)\n",
    "print(\"Total used DV is:\", DV*1000, \" m/s\")"
   ]
  },
  {
   "cell_type": "markdown",
   "id": "f0e5b42e",
   "metadata": {},
   "source": [
    "We may now plot the trajectory as done above, first computing the LHLV Deputy position:"
   ]
  },
  {
   "cell_type": "code",
   "execution_count": null,
   "id": "disciplinary-messenger",
   "metadata": {},
   "outputs": [],
   "source": [
    "# We compute the results in the LHLV frame for the Deputy\n",
    "deputy_rel = np.zeros((N,6))\n",
    "for i, item in enumerate(res):\n",
    "    fh = J2_LHLV(item[:6], c)[2]\n",
    "    deputy_rel[i] = to_relative(item[:6], item[6:], fh)"
   ]
  },
  {
   "cell_type": "markdown",
   "id": "a0e470af",
   "metadata": {},
   "source": [
    "Then plotting the trajectories:"
   ]
  },
  {
   "cell_type": "code",
   "execution_count": null,
   "id": "afraid-jacob",
   "metadata": {},
   "outputs": [],
   "source": [
    "# And plot\n",
    "limit = N\n",
    "fig = plt.figure(figsize = (9,9))\n",
    "ax1 = fig.add_subplot(1, 2, 1, projection='3d')\n",
    "ax2 = fig.add_subplot(1, 2, 2, projection='3d')\n",
    "\n",
    "ax1.plot3D(res[:limit, 0], res[:limit, 1], res[:limit, 2])\n",
    "ax1.set_title(\"Chief (inertial frame)\")\n",
    "ax2.plot3D(deputy_rel[:limit, 0], deputy_rel[:limit, 1], deputy_rel[:limit, 2])\n",
    "ax2.set_title(\"Deputy (LHLV frame)\")\n",
    "ax2.set_xlim([-box_size/2, box_size/2])\n",
    "ax2.set_ylim([trailing - box_size/2, trailing + box_size/2])\n",
    "ax2.set_zlim([hover-box_size/2, hover + box_size/2]);"
   ]
  },
  {
   "cell_type": "code",
   "execution_count": null,
   "id": "4f4abbf6",
   "metadata": {},
   "outputs": [],
   "source": [
    "fig, axs = plt.subplots(1, 3)\n",
    "axs[0].plot(t_grid[:limit], deputy_rel[:limit, 0])\n",
    "axs[0].hlines([ - box_size / 2, + box_size / 2], 0, t_grid[:limit][-1])\n",
    "axs[1].plot(t_grid[:limit], deputy_rel[:limit, 1])\n",
    "axs[1].hlines([ trailing - box_size / 2, trailing + box_size / 2], 0, t_grid[:limit][-1])\n",
    "axs[2].plot(t_grid[:limit], deputy_rel[:limit, 2])\n",
    "axs[2].hlines([hover - box_size / 2,hover + box_size / 2], 0, t_grid[:limit][-1])"
   ]
  },
  {
   "cell_type": "code",
   "execution_count": null,
   "id": "36ad7686",
   "metadata": {},
   "outputs": [],
   "source": [
    "x0,y0 = res[0,:6], res[0,6:]\n",
    "fh=0.1\n",
    "rel = to_relative(x0,y0,fh)"
   ]
  },
  {
   "cell_type": "code",
   "execution_count": null,
   "id": "e979630c",
   "metadata": {},
   "outputs": [],
   "source": [
    "np.array(to_absolute(x0, rel, fh))-np.array(y0)"
   ]
  },
  {
   "cell_type": "code",
   "execution_count": null,
   "id": "c97968da",
   "metadata": {},
   "outputs": [],
   "source": [
    "res[0,:6]"
   ]
  },
  {
   "cell_type": "code",
   "execution_count": null,
   "id": "045db969",
   "metadata": {},
   "outputs": [],
   "source": []
  }
 ],
 "metadata": {
  "kernelspec": {
   "display_name": "Python 3",
   "language": "python",
   "name": "python3"
  },
  "language_info": {
   "codemirror_mode": {
    "name": "ipython",
    "version": 3
   },
   "file_extension": ".py",
   "mimetype": "text/x-python",
   "name": "python",
   "nbconvert_exporter": "python",
   "pygments_lexer": "ipython3",
   "version": "3.8.8"
  }
 },
 "nbformat": 4,
 "nbformat_minor": 5
}
