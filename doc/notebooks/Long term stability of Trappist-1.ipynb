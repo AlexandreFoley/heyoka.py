{
 "cells": [
  {
   "cell_type": "markdown",
   "metadata": {},
   "source": [
    "# Long term stability of N-body simulations: the case of Trappist-1\n",
    "TRAPPIST-1 (see https://en.wikipedia.org/wiki/TRAPPIST-1) is a system made of seven Earth-sized planets, orbiting closely around a small ultra-cool dwarf with periods forming a near-resonant chain. The system is of particular interest as it is considered as a candidate to host extraterrestrial life and it is relatively close to our solar system (∼40 light years).\n",
    "\n",
    "Here we show how to use heyoka to setup a simulation to study the long-term stability of the system. For this purpose we will simulate the N-body dynamics of the system directly in Cartesian coordinates and in an inertial reference frame, the equations of motion (EOM) being:\n",
    "\n",
    "$$\n",
    "\\left\\{\n",
    "\\begin{aligned}\n",
    "\\frac{d^2x_i}{dt^2} &= -G \\sum_{i\\ne j}^N \\frac {m_j (x_i-x_j)}{\\left[{(x_i-x_j)^2+(y_i-y_j)^2+(z_i-z_j)^2}\\right]^\\frac 32} \\\\\n",
    "\\frac{d^2y_i}{dt^2} &= -G \\sum_{i\\ne j}^N \\frac {m_j (y_i-y_j)}{\\left[{(x_i-x_j)^2+(y_i-y_j)^2+(z_i-z_j)^2}\\right]^\\frac 32} \\\\\n",
    "\\frac{d^2z_i}{dt^2} &= -G \\sum_{i\\ne j}^N \\frac {m_j (z_i-z_j)}{\\left[{(x_i-x_j)^2+(y_i-y_j)^2+(z_i-z_j)^2}\\right]^\\frac 32} \n",
    "\\end{aligned}\n",
    "\\right. \\qquad \\qquad \\rightarrow i = 1..N\n",
    "$$\n",
    "\n",
    "To build this system of equations we can use heyoka built-in ``make_nbody_sys`` which will implement for us the equations of motion above. Our main concern is, thus, to generate sets of initial conditions that are compatible with the Earth-based astronomical observations made and simulate a bunch of them in parallel.\n",
    "\n",
    "NOTE: We will not use in this notebook heyoka's vectorization capabilities and we will, instead, only parallelise using multiple threads.\n",
    "\n",
    "NOTE: Thread parallelism is possible as the heyoka Taylor integrator releases the python GIL.\n",
    "\n",
    "Let us begin with importing the needed dependencies:"
   ]
  },
  {
   "cell_type": "code",
   "execution_count": 1,
   "metadata": {},
   "outputs": [],
   "source": [
    "# core imports\n",
    "import heyoka as hey\n",
    "import numpy as np\n",
    "import pykep as pk\n",
    "\n",
    "# plots\n",
    "import matplotlib.pyplot as plt\n",
    "from mpl_toolkits.mplot3d import Axes3D\n",
    "\n",
    "# misc\n",
    "from copy import deepcopy\n",
    "from multiprocessing.pool import ThreadPool\n",
    "from scipy.optimize import newton"
   ]
  },
  {
   "cell_type": "markdown",
   "metadata": {},
   "source": [
    "The first thing one must do is to collect the physical information on the system. For this purpose we refer to the paper:\n",
    "\n",
    "Agol, E., Dorn, C., Grimm, S.L., Turbet, M., Ducrot, E., Delrez, L., Gillon, M., Demory, B.O., Burdanov, A., Barkaoui, K. and Benkhaldoun, Z., 2021. Refining the Transit-timing and Photometric Analysis of TRAPPIST-1: Masses, Radii, Densities, Dynamics, and Ephemerides. The Planetary Science Journal, 2(1), p.1.\n",
    "\n",
    "and we collect and store the various observations for the Trappist system. We indicate with a small ``s`` the measurement error:"
   ]
  },
  {
   "cell_type": "code",
   "execution_count": 2,
   "metadata": {},
   "outputs": [],
   "source": [
    "# Cavendish constant (kg m^3/s^2)\n",
    "G = 6.67430E-11\n",
    "# Sun_mass (kg)\n",
    "SM = 1.989E30\n",
    "# Earth mass (kg)\n",
    "EM = 5.972E24\n",
    "# Mass of the Trappist-1 star\n",
    "MS = 0.0898 * SM\n",
    "MSs = 0.0023\n",
    "# Starting epoch of the simulation\n",
    "t_start = 7257.93115525 * pk.DAY2SEC\n",
    "# Masses of the Earth sized planets \n",
    "mu =  np.array([1.3771,1.3105,0.3885,0.6932,1.0411,1.3238,0.3261])\n",
    "mus = np.array([0.0593,0.0453,0.0074,0.0128,0.0155,0.0171,0.0186])\n",
    "# Orbital parameters for the Earth sized planets \n",
    "P = np.array([1.510826, 2.421937, 4.049219, 6.101013, 9.207540,12.352446,18.772866]) * pk.DAY2SEC\n",
    "Ps = np.array([0.000006,0.000018,0.000026,0.000035,0.000032,0.000054,0.000214]) * pk.DAY2SEC\n",
    "t0 = np.array([7257.55044,7258.58728,7257.06768,7257.82771,7257.07426,7257.71462,7249.60676]) * pk.DAY2SEC\n",
    "t0s = np.array([0.00015,0.00027,0.00067,0.00041,0.00085,0.00103,0.00272]) * pk.DAY2SEC\n",
    "ecosw = np.array([-0.00215, 0.00055,-0.00496, 0.00433,-0.00840, 0.00380,-0.00365])\n",
    "ecosws =  np.array([0.00332,0.00232,0.00186,0.00149,0.00130,0.00112,0.00077])\n",
    "esinw = np.array([ 0.00217, 0.00001, 0.00267,-0.00461,-0.00051, 0.00128,-0.00002])\n",
    "esinws = np.array([0.00244,0.00171,0.00112,0.00087,0.00087,0.00070,0.00044])\n",
    "\n",
    "# We put everything in a dictionary for convenience\n",
    "data = dict()\n",
    "data[\"MS\"] = MS; data[\"MSs\"] = MSs; data[\"mu\"] = mu; data[\"mus\"] = mus; data[\"P\"] = P; data[\"Ps\"] = Ps; \n",
    "data[\"t0\"] = t0; data[\"t0s\"] = t0s; data[\"t_start\"] = t_start; data[\"ecosw\"] = ecosw; data[\"ecosws\"] = ecosws; \n",
    "data[\"esinw\"] = esinw; data[\"esinws\"] = esinws; data[\"G\"] = G; data[\"m_earth\"] = EM; data[\"m_sun\"] = SM"
   ]
  },
  {
   "cell_type": "markdown",
   "metadata": {},
   "source": [
    "We can now generate plausible Trappist systems having physical properties that are compatible with the astronomical observation, we thus define a ``trappist_generator`` that returns the mass and position of all bodies in the Trappist-1 system (star and planets). Since we are at it we make the generator able to generate ``N`` plausible systems."
   ]
  },
  {
   "cell_type": "code",
   "execution_count": 3,
   "metadata": {},
   "outputs": [],
   "source": [
    "def trappist_generator(N, trappist_data):\n",
    "    G, m_earth, m_sun = data[\"G\"], data[\"m_earth\"], data[\"m_sun\"]\n",
    "    retval_ic = []\n",
    "    retval_m = []\n",
    "    \n",
    "   \n",
    "    for i in range(N):\n",
    "        # First we generate the stellar mass\n",
    "        m_star = data[\"MS\"] + data[\"MSs\"] * (np.random.random()*2-1)\n",
    "\n",
    "        # Then we generate masses for the planets\n",
    "        m_pl = (data[\"mu\"] + data[\"mus\"] * (np.random.random()*2-1))\n",
    "        m_pl = m_pl * m_earth * m_star / (m_sun * 0.09)\n",
    "\n",
    "        # And compute the Jacobi masses \"The Jacobi mass of planet i \n",
    "        # includes also the masses of all objects with a smaller \n",
    "        # semi-major axis.\"\n",
    "        m_jacobi = np.cumsum(m_pl)\n",
    "\n",
    "        # Then we generate the periods P\n",
    "        P_pl = data[\"P\"] + data[\"Ps\"] * (np.random.random()*2-1)\n",
    "\n",
    "        # And compute the semi-major axes from them\n",
    "        a_pl = (P_pl / 2. / np.pi)**2 * G * (m_jacobi + m_star)\n",
    "        a_pl = a_pl**(1./3.)\n",
    "        #a_pl = a_pl  * (1 + pert*(np.random.random(7)*2-1))\n",
    "        # Then we generate the ecos, esin \n",
    "        ecosw = data[\"ecosw\"] + data[\"ecosws\"] * (np.random.random()*2-1) \n",
    "        esinw = data[\"esinw\"] + data[\"esinws\"] * (np.random.random()*2-1) \n",
    "\n",
    "        # And compute eccentricites and argument of peristars\n",
    "        e_pl = np.sqrt(ecosw**2 + esinw**2)\n",
    "        w_pl = np.arctan2(esinw, ecosw)\n",
    "        #e_pl = e_pl * (1 + pert*(np.random.random(7)*2-1))\n",
    "        #w_pl = w_pl * (1 + pert*(np.random.random(7)*2-1))\n",
    "\n",
    "        # And compute the mean anomalies at transit\n",
    "        ni_pl_t = np.pi/2 - w_pl\n",
    "        E_pl_t = np.tan(ni_pl_t/2) * np.sqrt((1 - e_pl)/(1 + e_pl))\n",
    "        E_pl_t = np.arctan(E_pl_t)\n",
    "        E_pl_t = E_pl_t * 2\n",
    "        M_pl_t = E_pl_t - E_pl_t * np.sin(E_pl_t)\n",
    "\n",
    "        # And we set inclinations and RAAN accordingly\n",
    "        RAAN_pl = np.zeros(7)\n",
    "        incl_pl = np.ones(7) * np.pi/2\n",
    "        #incl_pl = incl_pl * (1 + pert*(np.random.random(7)*2-1))\n",
    "\n",
    "        # Then we generate the t0\n",
    "        t0_pl = data[\"t0\"] + data[\"t0s\"] * (np.random.random()*2-1) \n",
    "\n",
    "        # And we compute the mean anomalies\n",
    "        M_pl = M_pl_t - ((t0_pl - data[\"t_start\"]) * np.pi * 2) / P_pl\n",
    "\n",
    "\n",
    "        # With all of the orbital parameters defined we can instantiate the ICs\n",
    "        ic_tr = [0,0,0,0,0,0]\n",
    "        for j in range(7):\n",
    "            # Newton method to find E from M\n",
    "            E = newton(lambda E, e, M: E-e*np.sin(E) - M, M_pl[j] + e_pl[j]*np.cos(M_pl[j]), args = (e_pl[j], M_pl[j]))\n",
    "            r,v = pk.par2ic([a_pl[j], e_pl[j], incl_pl[j], RAAN_pl[j], w_pl[j], E], G * m_star)\n",
    "            ic_tr = ic_tr + list(r) + list(v)\n",
    "        ic_tr = np.array(ic_tr)\n",
    "\n",
    "        # Assemble the return masses into one \n",
    "        m_tr = [m_star] + list(m_pl)\n",
    "        m_tr = np.array(m_tr)\n",
    "\n",
    "        # And place the star so that the COM is at the origin\n",
    "        for j in range(6):\n",
    "            ic_tr[0+j] = - sum(ic_tr[6+j::6]*(m_tr[1:] / m_tr[0])) \n",
    "            \n",
    "        retval_ic.append(ic_tr)\n",
    "        retval_m.append(m_tr)\n",
    "    return retval_m, retval_ic\n"
   ]
  },
  {
   "cell_type": "markdown",
   "metadata": {},
   "source": [
    "and we have a first quick look at the resulting orbits of one random instance:"
   ]
  },
  {
   "cell_type": "code",
   "execution_count": 4,
   "metadata": {},
   "outputs": [
    {
     "data": {
      "text/plain": [
       "<Axes3DSubplot:>"
      ]
     },
     "execution_count": 4,
     "metadata": {},
     "output_type": "execute_result"
    },
    {
     "data": {
      "image/png": "[encoded data removed]",
      "text/plain": [
       "<Figure size 504x504 with 1 Axes>"
      ]
     },
     "metadata": {
      "needs_background": "light"
     },
     "output_type": "display_data"
    }
   ],
   "source": [
    "# Plots the trappist system\n",
    "def plot_trappist(state, mu, axes = None):\n",
    "    letter = [\"s\", \"a\", \"b\", \"c\", \"d\", \"e\", \"f\", \"g\", \"h\"]\n",
    "    colors = [\"y\", \"C0\", \"C1\", \"C2\", \"C3\", \"C4\", \"C5\", \"C6\", \"C7\"]\n",
    "    if axes is None:\n",
    "        fig = plt.figure(figsize=(7,7))\n",
    "        axes = fig.add_subplot(111, projection='3d', aspect='auto')\n",
    "    for i in range(1,8):\n",
    "        el = pk.ic2par(state[i*6:3+i*6], state[3+i*6:6+i*6], mu)\n",
    "        pla = pk.planet.keplerian(pk.epoch(0), el, mu, 1., 1., 1. , \"Trappist-1\"+letter[i])\n",
    "        pk.orbit_plots.plot_planet(pla, axes=axes, color=colors[i])\n",
    "    plt.axis('off')\n",
    "    plt.tight_layout()\n",
    "    axes.view_init(elev=0., azim=90.)\n",
    "    axes.scatter(0,0,0,s=40,c='y')\n",
    "    return axes\n",
    "\n",
    "masses, state = trappist_generator(1, data)\n",
    "plot_trappist(state[0], masses[0][0]*G)"
   ]
  },
  {
   "cell_type": "markdown",
   "metadata": {},
   "source": [
    "We are now ready to define the details of the experiment which will simulate in parallel a number of plausible Trappist-1 systems. "
   ]
  },
  {
   "cell_type": "code",
   "execution_count": 5,
   "metadata": {},
   "outputs": [
    {
     "name": "stdout",
     "output_type": "stream",
     "text": [
      "Number of final files that will be generated: 153\n"
     ]
    }
   ],
   "source": [
    "# Number of parallel processes (i.e. set this to the number of your CPUs).\n",
    "nproc = 3\n",
    "# Number of instances of the problem (i.e. plausible Trappist-1 systems we want to generate). \n",
    "# This should be equal or larger than the number of parallel processes.\n",
    "ninst = 3\n",
    "# Final integration time in yr. (for 10Myr use 10000000)\n",
    "final_time_yr = 1000\n",
    "# N_log number of logged points.\n",
    "N_log=50\n",
    "# Log schedule (uncomment if you)\n",
    "# times = np.logspace(0,np.log10(final_time_yr), N_log)\n",
    "# Linear schedule\n",
    "times = np.linspace(1,final_time_yr, N_log)\n",
    "\n",
    "print(\"Number of final files that will be generated: {:d}\".format(N_log*ninst+ninst))\n",
    "# We generate the various trappist systems\n",
    "m, ic = trappist_generator(ninst, data)"
   ]
  },
  {
   "cell_type": "markdown",
   "metadata": {},
   "source": [
    "We define the code that will run in each separate thread. Since this type of simulation may also take days (e.g. when we look at 10Myr evolutions) we use files to log the results and return data from the various threads:"
   ]
  },
  {
   "cell_type": "code",
   "execution_count": 6,
   "metadata": {},
   "outputs": [],
   "source": [
    "# This will simulate, monitor and log the i-th initial condition\n",
    "def runner(i):\n",
    "    # Generates the EOMs\n",
    "    ode_sys = hey.make_nbody_sys(8, Gconst = G, masses = m[i])\n",
    "    # Generates the Taylor integrator\n",
    "    ta = hey.taylor_adaptive(ode_sys, ic[i], high_accuracy=True, tol=1e-18, compact_mode=False)\n",
    "    \n",
    "    def data_saver(j, state):           \n",
    "            np.save('trappist1_{}_{:05d}.npy'.format(i,j), state)\n",
    "    # Its good practice to put this in a try catch block, even though it should not be necessary\n",
    "    try:\n",
    "        np.save('trappist1_m_{}.npy'.format(i), m[i])\n",
    "        data_saver(0, ic[i])\n",
    "        for j in range(0,N_log):\n",
    "            oc, _, _, nsteps = ta.propagate_until(times[j] * 365.25 * pk.DAY2SEC)\n",
    "            data_saver(j+1, ta.state)\n",
    "            if oc != hey.taylor_outcome.time_limit:\n",
    "                break\n",
    "    except BaseException as e:\n",
    "        print(\"Exception caught in thread. The full error message:\\n{}\".format(str(e)), flush=True)"
   ]
  },
  {
   "cell_type": "markdown",
   "metadata": {},
   "source": [
    "Finally, we run the various simulations. Note that it is here that the Taylor adaptive integrator will be compiled by LLVM into efficient code, and thus each runner will take some time before starting. \n",
    "\n",
    "note that depending to the parameters set for the experiment and your hardware the cell below may run for seconds, days or weeks writing on the files the partial result of the simulation."
   ]
  },
  {
   "cell_type": "code",
   "execution_count": 7,
   "metadata": {},
   "outputs": [],
   "source": [
    "with ThreadPool(processes=nproc) as pool:\n",
    "    pool.map(runner, range(ninst))"
   ]
  },
  {
   "cell_type": "markdown",
   "metadata": {},
   "source": [
    "At the end and during the execution of the above cell, files will be created logging the system state and its physical parameters. In particular there will be ``ninst`` files (e.g. ``trappist1_m_3.npy``) containing the system masses and ``ninst * N_log`` files (e.g. ``trappist1_3_00001.npy``) containing the system state at the logged points. These files can be read and used to determine the system stability using a number of helper functions.\n",
    "\n",
    "To load the state history for the i-th generated system up to ``N`` files:"
   ]
  },
  {
   "cell_type": "code",
   "execution_count": 8,
   "metadata": {},
   "outputs": [],
   "source": [
    "def load_evolution(i, N):\n",
    "    state = []\n",
    "    for j in range(N+1):\n",
    "        try:\n",
    "            tmp = np.load('trappist1_{}_{:05d}.npy'.format(i,j))\n",
    "            state.append(tmp)\n",
    "        except FileNotFoundError:\n",
    "            pass\n",
    "    return np.array(state)"
   ]
  },
  {
   "cell_type": "markdown",
   "metadata": {},
   "source": [
    "To load the masses of the i-th generated system:"
   ]
  },
  {
   "cell_type": "code",
   "execution_count": 9,
   "metadata": {},
   "outputs": [],
   "source": [
    "def load_masses(sim_id):\n",
    "    return np.load('trappist1_m_{}.npy'.format(sim_id))"
   ]
  },
  {
   "cell_type": "markdown",
   "metadata": {},
   "source": [
    "To compute the orbital parameters evolution for the ``pl_id`` planet from the states returned by ``load_evolution``:"
   ]
  },
  {
   "cell_type": "code",
   "execution_count": 10,
   "metadata": {},
   "outputs": [],
   "source": [
    "def compute_planet_evolution(pl_id, states, m_star):\n",
    "    data = states[:, 0+6*pl_id:6+6*pl_id]\n",
    "    retval = []\n",
    "    for d in data:\n",
    "        retval.append(pk.ic2par(d[:3],d[3:6], G * m_star))\n",
    "    return np.array(retval)\n"
   ]
  },
  {
   "cell_type": "markdown",
   "metadata": {},
   "source": [
    "To determine if the system evolution is so far stable, by detecting big changes in the system semi-major axes:"
   ]
  },
  {
   "cell_type": "code",
   "execution_count": 11,
   "metadata": {},
   "outputs": [],
   "source": [
    "def is_stable(states, m_star):\n",
    "    for pl_id in range(7):\n",
    "        params = compute_planet_evolution(pl_id+1, states, m_star)\n",
    "        std = np.std(params[:,0]) / pk.AU\n",
    "        if std > 1e-2:\n",
    "            return False\n",
    "        largest_sma = np.max(params[:,0])\n",
    "        smallest_sma = np.min(params[:,0])\n",
    "        if np.abs(largest_sma-smallest_sma) / pk.AU > 1e-2:\n",
    "            return False\n",
    "    return True\n"
   ]
  },
  {
   "cell_type": "markdown",
   "metadata": {},
   "source": [
    "... and finally to compute the system energy"
   ]
  },
  {
   "cell_type": "code",
   "execution_count": 12,
   "metadata": {},
   "outputs": [],
   "source": [
    "def kinetic_energy(state, masses):\n",
    "    K = 0;\n",
    "    for i in range(8):\n",
    "        v = state[3 + i*6 : 6 + i*6]\n",
    "        K += np.sum(v*v) * masses[i]\n",
    "    return K * 0.5\n",
    "\n",
    "def potential_energy(state, masses):\n",
    "    U = 0.;\n",
    "    for i in range(8):\n",
    "        ri = state[i*6 : 3 + i*6]\n",
    "        for j in range(8):\n",
    "            if i>=j: \n",
    "                continue\n",
    "            else:\n",
    "                rj = state[j*6 : 3 + j*6]\n",
    "                rij = ri-rj\n",
    "                U += (masses[i] * masses[j]) /np.linalg.norm(rij)\n",
    "    return - G * U\n",
    "                \n",
    "def energy(state, masses):\n",
    "    return kinetic_energy(state, masses) + potential_energy(state, masses)"
   ]
  },
  {
   "cell_type": "markdown",
   "metadata": {},
   "source": [
    "Let us then load the simulation result from the files produced, relative to the first system:"
   ]
  },
  {
   "cell_type": "code",
   "execution_count": 18,
   "metadata": {},
   "outputs": [],
   "source": [
    "sim_id = 0\n",
    "states = load_evolution(sim_id,N_log)\n",
    "masses = load_masses(sim_id)"
   ]
  },
  {
   "cell_type": "markdown",
   "metadata": {},
   "source": [
    "and plot, for example, the semi-major axis of the seven planets "
   ]
  },
  {
   "cell_type": "code",
   "execution_count": 23,
   "metadata": {},
   "outputs": [
    {
     "name": "stdout",
     "output_type": "stream",
     "text": [
      "51\n"
     ]
    },
    {
     "data": {
      "image/png": "[encoded data removed]",
      "text/plain": [
       "<Figure size 432x288 with 1 Axes>"
      ]
     },
     "metadata": {
      "needs_background": "light"
     },
     "output_type": "display_data"
    }
   ],
   "source": [
    "plt.figure()\n",
    "n = len(states)\n",
    "times = np.linspace(1, final_time_yr, N_log+1)\n",
    "\n",
    "for i in range(7):\n",
    "    params = compute_planet_evolution(i+1, states, masses[0])\n",
    "    plt.plot(times, params[:,0])\n",
    "plt.xlabel(\"My\")\n",
    "print(n)"
   ]
  },
  {
   "cell_type": "markdown",
   "metadata": {},
   "source": [
    "Let us also look at the energy conservation and plot it along the simulation, since we only simulated 1000 years in this example, there is not much we can see, but for long term simulation we would see that the Brouwer's law is achieved for the error growth:"
   ]
  },
  {
   "cell_type": "code",
   "execution_count": 28,
   "metadata": {},
   "outputs": [
    {
     "data": {
      "image/png": "[encoded data removed]",
      "text/plain": [
       "<Figure size 432x360 with 1 Axes>"
      ]
     },
     "metadata": {
      "needs_background": "light"
     },
     "output_type": "display_data"
    }
   ],
   "source": [
    "# Error on the energy\n",
    "DE = []\n",
    "for i in range(1, len(states)):\n",
    "    DE.append(-np.abs((energy(states[i], masses) - energy(states[0], masses))) / energy(states[i], masses))\n",
    "fig = plt.figure(figsize=(6,5))\n",
    "times = np.linspace(1, final_time_yr, N_log)\n",
    "_ = plt.loglog(times, DE, alpha=0.5, c='gray', marker='.')\n",
    "\n",
    "_ = plt.ylabel(\"Relative energy error\")\n",
    "_ = plt.xlabel(\"Time (years)\")"
   ]
  }
 ],
 "metadata": {
  "kernelspec": {
   "display_name": "Python 3",
   "language": "python",
   "name": "python3"
  },
  "language_info": {
   "codemirror_mode": {
    "name": "ipython",
    "version": 3
   },
   "file_extension": ".py",
   "mimetype": "text/x-python",
   "name": "python",
   "nbconvert_exporter": "python",
   "pygments_lexer": "ipython3",
   "version": "3.8.6"
  }
 },
 "nbformat": 4,
 "nbformat_minor": 4
}
