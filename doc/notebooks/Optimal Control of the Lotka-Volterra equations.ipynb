{
 "cells": [
  {
   "cell_type": "markdown",
   "id": "composite-consideration",
   "metadata": {},
   "source": [
    "# Optimal Control of the Lotka-Volterra equations\n",
    "\n",
    "In this tutorial we study an optimal control problem for the [Lotka-Volterra equations](https://en.wikipedia.org/wiki/Lotka%E2%80%93Volterra_equations) frequently used to describe the dynamics of biological systems in which two species interact: a predator ($y$) and a prey ($x$). \n",
    "\n",
    "The dynamics considered, taken from the work of [Aitziber Ibanez](https://www.tandfonline.com/doi/full/10.1080/17513758.2016.1226435) is:\n",
    "\n",
    "\\begin{equation}\n",
    "(1) \\quad \\left\\{\n",
    "\\begin{array}{l}\n",
    "\\dot x = p_0 x - p_1 xy - p_4 x u\\\\\n",
    "\\dot y = p_2 xy - p_3 y - p_5 y u\\\\\n",
    "\\end{array}\n",
    "\\right.\n",
    "\\end{equation}\n",
    "\n",
    "where $p_i > 0$ and $0 <= \\vert u\\vert <= 1$ is a control variable describing our hunting capabilities assumed to be proportional for the two species (fishing net scenario).\n",
    "\n",
    "**NOTE**: we used the symbols $p_i$ for all parameters as its the default symbol used in `heyoka.py`, and thus allows consistency in notation throughout the notebook.\n",
    "\n",
    "We are interested in finding $u(t)$ in the functional space of piecewice continuous functions such that the system is steered into a terminal state $x_f, y_f$ in minimal time when starting from some intial condition $x_0, y_0$.\n",
    "\n",
    "More formally, we consider the following optimal control problem (**OCP**):\n",
    "\n",
    "\\begin{array}{rl}\n",
    "\\mbox{find:}  & u(t), t_f \\\\\n",
    "\\mbox{subject to (dynamics):}   &  \\dot x = p_0 x - p_1 xy - p_4 x u\\\\\n",
    "                     &  \\dot y = p_2 xy - p_3 y - p_5 y u\\\\\n",
    "\\mbox{subject to (boundary conditions):}   &  x(0) = x_0, \\quad  x(t_f) = x_f\\\\\n",
    "    &  y(0) = y_0, \\quad  y(t_f) = y_f\\\\\n",
    "    & 0 <= \\vert u\\vert <= 1 \\\\\n",
    "\\mbox{to minimize:}   &  t_f \\\\  \n",
    "\\end{array}\n",
    "\n",
    "To solve the above **OCP** we will apply Pontryagin maximum principle ([**PMP**](https://en.wikipedia.org/wiki/Pontryagin%27s_maximum_principle)), accounting for the fact we have a minimization problem by maximizing $-t_f$ instead. We will thus eventually transform the problem above into\n",
    "a two-point boudary value problem (**TPBVP**) of an augmented set of ordinary differential equation (**ODE**) which we will solve using `heyoka.py`. \n",
    "Let us start importing a few core tools:"
   ]
  },
  {
   "cell_type": "code",
   "execution_count": 1,
   "id": "grand-little",
   "metadata": {},
   "outputs": [],
   "source": [
    "import heyoka as hy\n",
    "import numpy as np\n",
    "from matplotlib import pyplot as plt\n",
    "\n",
    "import sympy.simplify as pretty"
   ]
  },
  {
   "cell_type": "markdown",
   "id": "noted-australian",
   "metadata": {},
   "source": [
    "# Deriving the augmented dynamics\n",
    "\n",
    "The straightforward application of the **PMP** requires the introduction of auxiliary functions $\\boldsymbol\\lambda(t)$ and of a Hamiltonian which, in the case of a minimum time problem is:\n",
    "\n",
    "$$\n",
    "\\mathcal H(\\mathbf x, \\boldsymbol\\lambda, u) = \\mathbf f \\cdot \\boldsymbol\\lambda - 1\n",
    "$$\n",
    "where we indicated with $ \\mathbf f$ the r.h.s. of the dynamics.\n",
    "\n",
    "Let us then define the ecosystem state, the co-states (or augmented states, essentially some form of continuous version of Lagrange multipliers) $\\lambda_x, \\lambda_y$ and the dynamics:"
   ]
  },
  {
   "cell_type": "code",
   "execution_count": 2,
   "id": "extensive-nirvana",
   "metadata": {},
   "outputs": [],
   "source": [
    "# Define the symbolic variables x, y and th.\n",
    "x, y = hy.make_vars(\"x\", \"y\")\n",
    "\n",
    "# the co-states lx, ly \n",
    "lx, ly = hy.make_vars(\"lambda_x\", \"lambda_y\")\n",
    "\n",
    "# the control\n",
    "u, = hy.make_vars(\"u\")\n",
    "\n",
    "# and the dynamics fx, fy\n",
    "fx = hy.par[0]*x - hy.par[1]*x*y - x * hy.par[4] * u\n",
    "fy = hy.par[2]*x*y - hy.par[3]*y - y * hy.par[5] * u"
   ]
  },
  {
   "cell_type": "markdown",
   "id": "standing-search",
   "metadata": {},
   "source": [
    "and the expression for the Hamiltonian:"
   ]
  },
  {
   "cell_type": "code",
   "execution_count": 3,
   "id": "optical-tamil",
   "metadata": {},
   "outputs": [
    {
     "name": "stdout",
     "output_type": "stream",
     "text": [
      "The Hamiltonian:\n"
     ]
    },
    {
     "data": {
      "text/latex": [
       "$\\displaystyle - \\lambda_{x} x \\left(- p_{0} + p_{1} y + p_{4} u\\right) - \\lambda_{y} y \\left(- p_{2} x + p_{3} + p_{5} u\\right) - 1.0$"
      ],
      "text/plain": [
       "-lambda_x*x*(-p0 + p1*y + p4*u) - lambda_y*y*(-p2*x + p3 + p5*u) - 1.0"
      ]
     },
     "execution_count": 3,
     "metadata": {},
     "output_type": "execute_result"
    }
   ],
   "source": [
    "# The Hamiltonian\n",
    "H = fx*lx + fy*ly - 1\n",
    "print(\"The Hamiltonian:\")\n",
    "pretty(H.__repr__())"
   ]
  },
  {
   "cell_type": "markdown",
   "id": "composite-least",
   "metadata": {},
   "source": [
    "Note how in *heyoka.py* expression system system parameters are indicated with the symbols $p_i$ in the screen output.\n",
    "\n",
    "According to the **PMP** the value of the control $u$, along an optimal trajectory, is such that:\n",
    "\n",
    "$$\n",
    "u^* = \\max_{u\\in\\mathcal U} \\mathcal H(\\mathbf x, \\boldsymbol\\lambda, u)\n",
    "$$\n",
    "where we have introduced the space of admissible controls as $\\mathcal U = [0,1]$. In our case we get, quite simply, \n",
    "$$\n",
    "u^*(\\mathbf x, \\boldsymbol\\lambda) = \n",
    "\\left\\{\\begin{array}{ll}\n",
    "1 & -(p_4 x\\lambda_x+p_5 y \\lambda_y) \\gt 0 \\\\\n",
    "0 & -(p_4 x\\lambda_x+p_5 y \\lambda_y) \\lt 0\n",
    "\\end{array}\n",
    "\\right.\n",
    "$$\n",
    "The value of the control will then switch between the extreme values 0 and 1 whenever the switching function $S(\\mathbf x, \\boldsymbol \\lambda) = \\lambda_{\\theta}$ changes sign. The equations of motion for the augmented state ($\\mathbf x, \\boldsymbol \\lambda$) are the Hamilton's equations:\n",
    "$$\n",
    "\\begin{array}{l}\n",
    "\\dot {\\mathbf x} = \\frac{\\partial \\mathcal H}{\\partial \\boldsymbol \\lambda} \\\\\n",
    "\\dot {\\boldsymbol \\lambda} = - \\frac{\\partial \\mathcal H}{\\partial \\mathbf x} \n",
    "\\end{array}\n",
    "$$\n",
    "let us compute them:"
   ]
  },
  {
   "cell_type": "code",
   "execution_count": 4,
   "id": "suited-group",
   "metadata": {},
   "outputs": [],
   "source": [
    "# We compute the co-state equations\n",
    "flx = hy.diff(H, \"x\")\n",
    "fly = hy.diff(H, \"y\")"
   ]
  },
  {
   "cell_type": "code",
   "execution_count": 5,
   "id": "executed-hazard",
   "metadata": {},
   "outputs": [
    {
     "name": "stdout",
     "output_type": "stream",
     "text": [
      "Co-state dynamics (1):\n"
     ]
    },
    {
     "data": {
      "text/latex": [
       "$\\displaystyle \\lambda_{x} \\left(- p_{0} + p_{1} y + p_{4} u\\right) - \\lambda_{y} p_{2} y$"
      ],
      "text/plain": [
       "lambda_x*(-p0 + p1*y + p4*u) - lambda_y*p2*y"
      ]
     },
     "execution_count": 5,
     "metadata": {},
     "output_type": "execute_result"
    }
   ],
   "source": [
    "print(\"Co-state dynamics (1):\")\n",
    "pretty((-flx).__repr__())"
   ]
  },
  {
   "cell_type": "code",
   "execution_count": 6,
   "id": "vietnamese-mexico",
   "metadata": {},
   "outputs": [
    {
     "name": "stdout",
     "output_type": "stream",
     "text": [
      "Co-state dynamics (2):\n"
     ]
    },
    {
     "data": {
      "text/latex": [
       "$\\displaystyle \\lambda_{x} p_{1} x + \\lambda_{y} \\left(- p_{2} x + p_{3} + p_{5} u\\right)$"
      ],
      "text/plain": [
       "lambda_x*p1*x + lambda_y*(-p2*x + p3 + p5*u)"
      ]
     },
     "execution_count": 6,
     "metadata": {},
     "output_type": "execute_result"
    }
   ],
   "source": [
    "print(\"Co-state dynamics (2):\")\n",
    "pretty((-fly).__repr__())"
   ]
  },
  {
   "cell_type": "markdown",
   "id": "alpine-inspector",
   "metadata": {},
   "source": [
    "Putting everything together (i.e. substituting the expression for $u$ found via the **PMP** into the augmented equations) we get:\n",
    "$$\n",
    "(2) \\quad \\left\\{\n",
    "\\begin{array}{l}\n",
    "\\dot x = p_0 x - p_1 xy - p_4 x u^*\\\\\n",
    "\\dot y = p_2 xy - p_3 y - p_5 y u^*\\\\\n",
    "\\frac{d \\lambda_x}{dt} = (-p_0 + p_1  y + p_4u^*)  \\lambda_x - \\lambda_y p_2  y   \\\\\n",
    "\\frac{d \\lambda_y}{dt}  = p_1  x  \\lambda_x +(-p_2  x + p_3 + p_5 u^*)  \\lambda_y \\\\\n",
    "\\end{array}\n",
    "\\right.\n",
    "$$\n",
    "As dictated by Pontryagin's Theorem, a necessary condition for a trajectory to be optimal is that intial values $\\boldsymbol \\lambda_0$ exist such that the solution of the above ODE initial value problem (**IVP**) from $[\\mathbf x_0, \\boldsymbol \\lambda_0]$ leads the system to the desired target state. \n",
    "\n",
    "Formally, we seek a root of the system of (three) nonlinear equations in the (three) unknowns $\\boldsymbol \\lambda_0, t_f$:\n",
    "$$\n",
    "\\varphi(\\boldsymbol \\lambda_0, t_f) = \n",
    "\\left[\n",
    "\\begin{array}{l}\n",
    "x(t_f) - x_f \\\\\n",
    "y(t_f) - y_f \\\\\n",
    "\\mathcal H (t_f)\n",
    "\\end{array}\n",
    "\\right]\n",
    "$$\n",
    "also called shooting function as finding its root requires solving multiple times an **IVP** in a \"clever\" trial and error iterative scheme. The added terminal condition on the Hamiltonian derives again from Pontryagin theory (this is a free time problem)."
   ]
  },
  {
   "cell_type": "markdown",
   "id": "listed-exemption",
   "metadata": {},
   "source": [
    "# Studying the uncontrolled system\n",
    "Let us see what happens in an uncontrolled case. \n",
    "\n",
    "We will consider an initial population of 10 preys with growth rates $p_0= 1.1$, $p_1 = 0.2$ and 10 predators with growth rates $p_2 = 0.1$, $p_3 = 0.4$. \n",
    "\n",
    "Let us write the r.h.s. of Eq.(1). The parameters in the equations are indicated by the syntax `par[i]` and their numerical value will be set later."
   ]
  },
  {
   "cell_type": "code",
   "execution_count": 7,
   "id": "presidential-beijing",
   "metadata": {},
   "outputs": [],
   "source": [
    "fx_unc = hy.par[0]*x - hy.par[1]*x*y \n",
    "fy_unc = hy.par[2]*x*y - hy.par[3]*y"
   ]
  },
  {
   "cell_type": "markdown",
   "id": "republican-gardening",
   "metadata": {},
   "source": [
    "The actual EOM, in the heyoka.py syntax, can be specified as a list of tuples (variable, equation):"
   ]
  },
  {
   "cell_type": "code",
   "execution_count": 8,
   "id": "disturbed-basket",
   "metadata": {},
   "outputs": [],
   "source": [
    "ode_sys_unc = [(x,fx_unc), (y, fy_unc)]"
   ]
  },
  {
   "cell_type": "markdown",
   "id": "norman-senior",
   "metadata": {},
   "source": [
    "We now create the integrator object, using as initial conditions 10, 10."
   ]
  },
  {
   "cell_type": "code",
   "execution_count": 9,
   "id": "internal-carroll",
   "metadata": {},
   "outputs": [
    {
     "name": "stdout",
     "output_type": "stream",
     "text": [
      "Taylor order            : 20\n",
      "Dimension               : 2\n",
      "Time                    : 0.0000000000000000\n",
      "State                   : [10.000000000000000, 10.000000000000000]\n",
      "Parameters  : [0.0000000000000000, 0.0000000000000000, 0.0000000000000000, 0.0000000000000000]\n",
      "\n"
     ]
    }
   ],
   "source": [
    "ta = hy.taylor_adaptive(ode_sys_unc, [10, 10])\n",
    "print(ta)"
   ]
  },
  {
   "cell_type": "markdown",
   "id": "computational-knitting",
   "metadata": {},
   "source": [
    "all parameters are set to zero by default, and we must now set theur numerical values:"
   ]
  },
  {
   "cell_type": "code",
   "execution_count": 10,
   "id": "married-works",
   "metadata": {},
   "outputs": [],
   "source": [
    "ta.pars[0] = 1.1 # alpha\n",
    "ta.pars[1] = 0.2 # beta\n",
    "ta.pars[2] = 0.1 # delta\n",
    "ta.pars[3] = 0.4 # gamma"
   ]
  },
  {
   "cell_type": "markdown",
   "id": "lesser-examination",
   "metadata": {},
   "source": [
    "We may now solve the **IVP**, since we want to record the state and show its trend we use the `propagate_grid` method which efficiently   "
   ]
  },
  {
   "cell_type": "code",
   "execution_count": 11,
   "id": "distinguished-hawaiian",
   "metadata": {},
   "outputs": [],
   "source": [
    "t_grid = np.linspace(0,20,1000)\n",
    "outcome, min_h, max_h, steps, sol = ta.propagate_grid(t_grid)"
   ]
  },
  {
   "cell_type": "markdown",
   "id": "electrical-wheat",
   "metadata": {},
   "source": [
    "... and plot the solution ... (note that we recorded also other quantities such as `outcome` etc.. but we are not really using them here)"
   ]
  },
  {
   "cell_type": "code",
   "execution_count": 12,
   "id": "little-criterion",
   "metadata": {},
   "outputs": [
    {
     "data": {
      "image/png": "[encoded data removed]",
      "text/plain": [
       "<Figure size 720x216 with 3 Axes>"
      ]
     },
     "metadata": {
      "needs_background": "light"
     },
     "output_type": "display_data"
    }
   ],
   "source": [
    "fig, axs = plt.subplots(1,3, figsize=(10,3))\n",
    "preys_unc = sol[:,0]\n",
    "predators_unc = sol[:,1]\n",
    "\n",
    "axs[0].plot(t_grid, preys_unc, label=\"n. preys\")\n",
    "axs[0].plot(t_grid, predators_unc, label=\"n. predators\")\n",
    "axs[0].legend(loc=2)\n",
    "axs[0].set_xlabel(\"system time\")\n",
    "axs[0].set_ylabel(\"number in each species\")\n",
    "\n",
    "axs[1].plot(preys_unc, predators_unc)\n",
    "axs[1].set_xlabel(\"n. preys\")\n",
    "axs[1].set_ylabel(\"n. predators\")\n",
    "axs[1].set_xlim([0,15])\n",
    "axs[1].set_ylim([0,14])\n",
    "\n",
    "plt.tight_layout() "
   ]
  },
  {
   "cell_type": "markdown",
   "id": "balanced-gravity",
   "metadata": {},
   "source": [
    "# Controlling the pray-predator dynamics\n",
    "Let us try to steer the system so that we have in the shortest possible time an ecosystem with 10 prays and 4 predators. \n",
    "\n",
    "For this, as explained above, we must find find suitable initial values for the costates $\\lambda x, \\lambda y$ and for the final time $t_f$ so that, solving Eq.(2) we get $x(t_f) = 10$,  $y(t_f)=4$ and $\\mathcal H(t_f)=0$. \n",
    "\n",
    "Let us define our ODE first:"
   ]
  },
  {
   "cell_type": "code",
   "execution_count": 13,
   "id": "stunning-railway",
   "metadata": {},
   "outputs": [],
   "source": [
    "fx = hy.par[0]*x - hy.par[1]*x*y - x * hy.par[4] *  hy.par[6]\n",
    "fy = hy.par[2]*x*y - hy.par[3]*y - y * hy.par[5] *  hy.par[6]\n",
    "flx = (-hy.par[0] + hy.par[1]*y + hy.par[6] * hy.par[4]) * lx - hy.par[2]*ly*y\n",
    "fly = hy.par[1]*x*lx + (-hy.par[2]*x + hy.par[3] + hy.par[6] * hy.par[5]) * ly\n",
    "ode_sys = [(x,fx), (y, fy), (lx, flx), (ly, fly)]\n"
   ]
  },
  {
   "cell_type": "markdown",
   "id": "inclusive-simulation",
   "metadata": {},
   "source": [
    "We have added three parameters to the system. The first ones are `par[4]` and `par[5]` representing the values of $p_4, p_5$. Then, `par[6]` is the value of the optimal control $u^*$ effectively determining which one of two different systems of ODEs gets propagated. \n",
    "\n",
    "We now build the system of equations taking care to define a terminal event detecting the change in sign of the switching function and changing the control value accordingly."
   ]
  },
  {
   "cell_type": "code",
   "execution_count": 14,
   "id": "wanted-toronto",
   "metadata": {},
   "outputs": [
    {
     "name": "stdout",
     "output_type": "stream",
     "text": [
      "Taylor order            : 20\n",
      "Dimension               : 4\n",
      "Time                    : 0.0000000000000000\n",
      "State                   : [10.000000000000000, 10.000000000000000, -1.0000000000000000, 1.0000000000000000]\n",
      "Parameters  : [0.0000000000000000, 0.0000000000000000, 0.0000000000000000, 0.0000000000000000, 0.0000000000000000, 0.0000000000000000, 0.0000000000000000]\n",
      "N of terminal events    : 1\n",
      "\n"
     ]
    }
   ],
   "source": [
    "# Here we record the switching times\n",
    "switch_times = []\n",
    "\n",
    "def switch_callback(ta, t, mr, log_times):\n",
    "    if not mr:\n",
    "        if ta.pars[6]==0.:\n",
    "            ta.pars[6] = 1.\n",
    "        else:\n",
    "            ta.pars[6]=0.\n",
    "        if log_times:\n",
    "            switch_times.append(t)\n",
    "        \n",
    "switching_event = hy.t_event(x * lx * hy.par[4] + y * ly * hy.par[5], callback = lambda ta,t,mr: switch_callback(ta, t, mr, True))\n",
    "\n",
    "ta = hy.taylor_adaptive(ode_sys, [10, 10, -1, 1], t_events = [switching_event])\n",
    "print(ta)"
   ]
  },
  {
   "cell_type": "markdown",
   "id": "looking-marble",
   "metadata": {},
   "source": [
    "Let us now set the value of the various parameters"
   ]
  },
  {
   "cell_type": "code",
   "execution_count": 15,
   "id": "graphic-obligation",
   "metadata": {},
   "outputs": [],
   "source": [
    "x0,y0,lx0,ly0 = ta.state\n",
    "p4 = 0.1\n",
    "p5 = 0.1\n",
    "ta.pars[0] = 1.1 # alpha\n",
    "ta.pars[1] = 0.2 # beta\n",
    "ta.pars[2] = 0.1 # delta\n",
    "ta.pars[3] = 0.4 # gamma\n",
    "ta.pars[4] = p4 # maximum number of preys removed per time unit\n",
    "ta.pars[5] = p5 # maximum number of predators removed per time unit\n",
    "ta.pars[6] = np.heaviside(-x0 * lx0 * p4 - y0 * ly0 *p5, 1.)"
   ]
  },
  {
   "cell_type": "markdown",
   "id": "advanced-arbor",
   "metadata": {},
   "source": [
    "We now integrate the system. The resulting trajectory will be optimal in a sense, only not respecting our requested boundary conditions."
   ]
  },
  {
   "cell_type": "code",
   "execution_count": 16,
   "id": "hairy-toilet",
   "metadata": {},
   "outputs": [],
   "source": [
    "t_grid = np.linspace(0,30,1000)\n",
    "outcome, min_h, max_h, steps, sol = ta.propagate_grid(t_grid)"
   ]
  },
  {
   "cell_type": "markdown",
   "id": "frozen-removal",
   "metadata": {},
   "source": [
    "and replot the result, comparing it to the previous uncontrolled system."
   ]
  },
  {
   "cell_type": "code",
   "execution_count": 17,
   "id": "elementary-argument",
   "metadata": {},
   "outputs": [
    {
     "data": {
      "image/png": "[encoded data removed]",
      "text/plain": [
       "<Figure size 720x216 with 3 Axes>"
      ]
     },
     "metadata": {
      "needs_background": "light"
     },
     "output_type": "display_data"
    }
   ],
   "source": [
    "fig, axs = plt.subplots(1,3, figsize=(10,3))\n",
    "preys = sol[:,0]\n",
    "predators = sol[:,1]\n",
    "lpreys = sol[:,2]\n",
    "lpredators = sol[:,3]\n",
    "switching_function = -(p4 * preys * lpreys + p5 * predators * lpredators)\n",
    "\n",
    "axs[0].plot(t_grid, preys, label=\"n. preys\")\n",
    "axs[0].plot(t_grid, predators, label=\"n. predators\")\n",
    "axs[0].legend(loc=2)\n",
    "axs[0].set_xlabel(\"system time\")\n",
    "axs[0].set_ylabel(\"number in each species\")\n",
    "\n",
    "axs[1].plot(preys_unc, predators_unc, label=\"uncontrolled\")\n",
    "axs[1].plot(preys, predators, 'r', label = \"controlled\")\n",
    "axs[1].set_xlabel(\"n. preys\")\n",
    "axs[1].set_ylabel(\"n. predators\")\n",
    "axs[1].set_xlim([0,15])\n",
    "axs[1].set_ylim([0,14])\n",
    "axs[1].legend(loc=4)\n",
    "\n",
    "\n",
    "axs[2].plot(t_grid, switching_function)\n",
    "for time in switch_times:\n",
    "    axs[2].axvline(x=time, color='k', linestyle='--')\n",
    "axs[2].set_xlabel(\"system time\")\n",
    "axs[2].set_ylabel(\"switching function\")\n",
    "\n",
    "\n",
    "plt.tight_layout() "
   ]
  }
 ],
 "metadata": {
  "kernelspec": {
   "display_name": "Python 3",
   "language": "python",
   "name": "python3"
  },
  "language_info": {
   "codemirror_mode": {
    "name": "ipython",
    "version": 3
   },
   "file_extension": ".py",
   "mimetype": "text/x-python",
   "name": "python",
   "nbconvert_exporter": "python",
   "pygments_lexer": "ipython3",
   "version": "3.8.6"
  }
 },
 "nbformat": 4,
 "nbformat_minor": 5
}
