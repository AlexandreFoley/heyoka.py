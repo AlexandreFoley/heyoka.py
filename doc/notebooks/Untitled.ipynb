{
 "cells": [
  {
   "cell_type": "code",
   "execution_count": 1,
   "id": "9219c1b5",
   "metadata": {},
   "outputs": [],
   "source": [
    "import heyoka as hy\n",
    "import numpy as np"
   ]
  },
  {
   "cell_type": "code",
   "execution_count": 33,
   "id": "0a9c0824",
   "metadata": {},
   "outputs": [],
   "source": [
    "x, y, vx, vy = hy.make_vars(\"x\", \"y\", \"vx\", \"vy\")\n",
    "\n",
    "eqns = [(x, vx),\n",
    "        (y, vy),\n",
    "        (vx, hy.expression(0.)),\n",
    "        (vy, hy.expression(-1.))]\n",
    "\n",
    "eq_w_curve = y - (1. - x + 0.05 * hy.cos(11 * np.pi * x))\n",
    "eq_bottom = y\n",
    "\n",
    "last_t = 0.\n",
    "\n",
    "def cb_w_curve(ta, mr):\n",
    "    global last_t\n",
    "\n",
    "    if ta.time - last_t < 1e-10:\n",
    "        return False\n",
    "\n",
    "    last_t = ta.time\n",
    "\n",
    "    x, y = ta.state[0:2]\n",
    "    \n",
    "    # Compute the normal unit vector\n",
    "    # using the gradient of the event\n",
    "    # equation.\n",
    "    grad = np.array([1+0.05*11*np.pi*np.sin(11*np.pi*x), 1])\n",
    "    grad_uvec = grad / np.linalg.norm(grad)\n",
    "    \n",
    "    # Compute the component of the velocity\n",
    "    # across the normal vector.\n",
    "    xy_vel = ta.state[2:4]\n",
    "    vproj = np.dot(xy_vel, grad_uvec)\n",
    "    \n",
    "    # Flip it.\n",
    "    Dv = -vproj*grad_uvec\n",
    "    #xy_vel += 2*Dv\n",
    "    xy_vel += 1.8*Dv\n",
    "\n",
    "    return True\n",
    "\n",
    "def cb_bottom(ta, mr):\n",
    "    global last_t\n",
    "    if ta.time - last_t < 1e-6:\n",
    "        return False\n",
    "\n",
    "    last_t = ta.time\n",
    "    \n",
    "    #ta.state[3] = -ta.state[3]\n",
    "    ta.state[3] = -0.8*ta.state[3]\n",
    "    \n",
    "    return True\n",
    "\n",
    "ta = hy.taylor_adaptive(eqns, [0, 1.2, 0, 0], t_events = [hy.t_event(eq_w_curve, callback = cb_w_curve),\n",
    "                                                          hy.t_event(eq_bottom, callback = cb_bottom)])"
   ]
  },
  {
   "cell_type": "code",
   "execution_count": 34,
   "id": "c3c95f87",
   "metadata": {},
   "outputs": [],
   "source": [
    "t_grid = np.linspace(0, 20, 10000)\n",
    "oc, _1, _2, _3, res = ta.propagate_grid(t_grid)"
   ]
  },
  {
   "cell_type": "code",
   "execution_count": 35,
   "id": "ddef9b6b",
   "metadata": {},
   "outputs": [
    {
     "data": {
      "application/vnd.jupyter.widget-view+json": {
       "model_id": "d1c4eb1b17d244b7a4bb8483fcb51675",
       "version_major": 2,
       "version_minor": 0
      },
      "text/plain": [
       "Canvas(toolbar=Toolbar(toolitems=[('Home', 'Reset original view', 'home', 'home'), ('Back', 'Back to previous …"
      ]
     },
     "metadata": {},
     "output_type": "display_data"
    },
    {
     "data": {
      "text/plain": [
       "(0.0, 1.2625)"
      ]
     },
     "execution_count": 35,
     "metadata": {},
     "output_type": "execute_result"
    }
   ],
   "source": [
    "%matplotlib widget\n",
    "from matplotlib.pylab import plt\n",
    "\n",
    "fig = plt.figure()\n",
    "plt.plot(res[:,0],res[:,1])\n",
    "x_grid = np.linspace(0, 1., 1000)\n",
    "plt.plot(x_grid, (1 - x_grid + 0.05 * np.cos(11 * np.pi * x_grid)), 'k-', linewidth=1)\n",
    "plt.grid()\n",
    "plt.ylim(0, None)"
   ]
  },
  {
   "cell_type": "code",
   "execution_count": 26,
   "id": "cdf14f03",
   "metadata": {},
   "outputs": [
    {
     "data": {
      "text/plain": [
       "<taylor_outcome.???: -1>"
      ]
     },
     "execution_count": 26,
     "metadata": {},
     "output_type": "execute_result"
    }
   ],
   "source": [
    "oc"
   ]
  },
  {
   "cell_type": "code",
   "execution_count": null,
   "id": "f1b0a1a9",
   "metadata": {},
   "outputs": [],
   "source": []
  }
 ],
 "metadata": {
  "kernelspec": {
   "display_name": "Python 3",
   "language": "python",
   "name": "python3"
  },
  "language_info": {
   "codemirror_mode": {
    "name": "ipython",
    "version": 3
   },
   "file_extension": ".py",
   "mimetype": "text/x-python",
   "name": "python",
   "nbconvert_exporter": "python",
   "pygments_lexer": "ipython3",
   "version": "3.9.0"
  }
 },
 "nbformat": 4,
 "nbformat_minor": 5
}
