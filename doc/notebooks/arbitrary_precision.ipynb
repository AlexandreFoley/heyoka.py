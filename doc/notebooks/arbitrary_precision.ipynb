{
 "cells": [
  {
   "cell_type": "markdown",
   "id": "a5466907-973d-4940-a2bc-3d07db15ee3a",
   "metadata": {},
   "source": [
    "# Computations in arbitrary precision\n",
    "\n",
    "As hinted in the [expression system tutorial](<./The expression system.ipynb>), starting from version 0.20 heyoka.py supports computations in [arbitrary precision](https://en.wikipedia.org/wiki/Arbitrary-precision_arithmetic).\n",
    "\n",
    "## Getting to know your real self"
   ]
  },
  {
   "cell_type": "code",
   "execution_count": 1,
   "id": "ad1b399d-d968-494a-b518-f9affe7039ff",
   "metadata": {},
   "outputs": [],
   "source": [
    "import heyoka as hy\n",
    "real = hy.real"
   ]
  },
  {
   "cell_type": "code",
   "execution_count": 4,
   "id": "fd119d2b-16e8-446b-83c2-8d6cede501ea",
   "metadata": {},
   "outputs": [
    {
     "data": {
      "text/plain": [
       "64"
      ]
     },
     "execution_count": 4,
     "metadata": {},
     "output_type": "execute_result"
    }
   ],
   "source": [
    "real(1).prec"
   ]
  },
  {
   "cell_type": "code",
   "execution_count": 5,
   "id": "6700972d-a740-4355-a8d6-b70687ce69bc",
   "metadata": {},
   "outputs": [
    {
     "data": {
      "text/plain": [
       "1.0000000000"
      ]
     },
     "execution_count": 5,
     "metadata": {},
     "output_type": "execute_result"
    }
   ],
   "source": [
    "real(1, 32)"
   ]
  },
  {
   "cell_type": "code",
   "execution_count": 6,
   "id": "45d111bf-7667-4786-af5d-6d4083394f0a",
   "metadata": {},
   "outputs": [
    {
     "data": {
      "text/plain": [
       "32"
      ]
     },
     "execution_count": 6,
     "metadata": {},
     "output_type": "execute_result"
    }
   ],
   "source": [
    "real(1, 32).prec"
   ]
  },
  {
   "cell_type": "code",
   "execution_count": 10,
   "id": "72152741-c9dd-45f9-bdcd-cf427ff18360",
   "metadata": {},
   "outputs": [
    {
     "data": {
      "text/plain": [
       "-8.881784197001252323388935795291480271249e-17"
      ]
     },
     "execution_count": 10,
     "metadata": {},
     "output_type": "execute_result"
    }
   ],
   "source": [
    "real(\"1.1\",128) - real(1.1)"
   ]
  },
  {
   "cell_type": "code",
   "execution_count": 8,
   "id": "8db3fc4f-2f3b-45ed-96b1-43eb00aea9f0",
   "metadata": {},
   "outputs": [
    {
     "data": {
      "text/plain": [
       "1.10000000000000000002"
      ]
     },
     "execution_count": 8,
     "metadata": {},
     "output_type": "execute_result"
    }
   ],
   "source": [
    "import numpy as np\n",
    "real(np.longdouble(\"1.1\"))"
   ]
  },
  {
   "cell_type": "code",
   "execution_count": 9,
   "id": "3f7b5f2d-47bc-4dfc-b143-bf6115974365",
   "metadata": {},
   "outputs": [
    {
     "data": {
      "text/plain": [
       "64"
      ]
     },
     "execution_count": 9,
     "metadata": {},
     "output_type": "execute_result"
    }
   ],
   "source": [
    "real(np.longdouble(\"1.1\")).prec"
   ]
  },
  {
   "cell_type": "markdown",
   "id": "e0947254-176b-4fed-bb34-c1fef07ac661",
   "metadata": {},
   "source": [
    "## Numerical integration"
   ]
  },
  {
   "cell_type": "code",
   "execution_count": 22,
   "id": "b25b6ade-7034-451f-b0c2-60f698f7e00f",
   "metadata": {},
   "outputs": [],
   "source": [
    "# Create the symbolic variables x and v.\n",
    "x, v = hy.make_vars(\"x\", \"v\")\n",
    "\n",
    "# Define the dynamical equations.\n",
    "sys = [(x, v), (v, -9.8 * hy.sin(x))]\n",
    "\n",
    "# Define a small helper to compute the energy\n",
    "# from the state vector.\n",
    "def compute_energy(sv):\n",
    "    from numpy import cos\n",
    "    return (sv[1]*sv[1])/2 + 9.8*(1 - cos(sv[0]))\n",
    "\n",
    "import numpy as np\n",
    "ta = hy.taylor_adaptive(sys,\n",
    "                        # Initial conditions in extended precision.\n",
    "                        np.array([-1, 0], dtype=real),\n",
    "                        # Specify that the integrator must operate\n",
    "                        # in extended precision.\n",
    "                        fp_type=real,\n",
    "                        prec=237\n",
    "                       )"
   ]
  },
  {
   "cell_type": "code",
   "execution_count": 23,
   "id": "092eeb1d-200b-456a-b137-d6cb1a186474",
   "metadata": {},
   "outputs": [],
   "source": [
    "E0 = compute_energy(ta.state)"
   ]
  },
  {
   "cell_type": "code",
   "execution_count": 25,
   "id": "2cf141ec-0d1f-43dc-8c90-73aceb097c01",
   "metadata": {},
   "outputs": [
    {
     "data": {
      "text/plain": [
       "(<taylor_outcome.time_limit: -4294967299>,\n",
       " 9.334253297727788341279282296646022704139324894235374599048225000571505940e-2,\n",
       " 1.152545565114015118916402564058825409029417254041724390996635060521646466e-1,\n",
       " 50,\n",
       " None)"
      ]
     },
     "execution_count": 25,
     "metadata": {},
     "output_type": "execute_result"
    }
   ],
   "source": [
    "ta.propagate_until(real(5))"
   ]
  },
  {
   "cell_type": "code",
   "execution_count": 26,
   "id": "1cc2bdcc-bf86-439c-9de5-8ef0c0948a79",
   "metadata": {},
   "outputs": [],
   "source": [
    "E1 = compute_energy(ta.state)"
   ]
  },
  {
   "cell_type": "code",
   "execution_count": 27,
   "id": "d097ff8a-cea9-4159-a434-7173dfa55776",
   "metadata": {},
   "outputs": [
    {
     "data": {
      "text/plain": [
       "3.216196721942249426474676684811710098370591337848488644237198758541875621e-71"
      ]
     },
     "execution_count": 27,
     "metadata": {},
     "output_type": "execute_result"
    }
   ],
   "source": [
    "abs((E0 - E1)/E0)"
   ]
  },
  {
   "cell_type": "code",
   "execution_count": null,
   "id": "de3d568b-bca4-4a2a-8236-1a6398ce3d89",
   "metadata": {},
   "outputs": [],
   "source": []
  }
 ],
 "metadata": {
  "kernelspec": {
   "display_name": "Python 3 (ipykernel)",
   "language": "python",
   "name": "python3"
  },
  "language_info": {
   "codemirror_mode": {
    "name": "ipython",
    "version": 3
   },
   "file_extension": ".py",
   "mimetype": "text/x-python",
   "name": "python",
   "nbconvert_exporter": "python",
   "pygments_lexer": "ipython3",
   "version": "3.10.6"
  }
 },
 "nbformat": 4,
 "nbformat_minor": 5
}
