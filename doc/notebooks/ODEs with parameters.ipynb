{
 "cells": [
  {
   "cell_type": "markdown",
   "metadata": {},
   "source": [
    "ODEs with parameters\n",
    "====================\n",
    "\n",
    "The values of numerical constants in heyoka can either be specified when constructing an ODE system, or they can be loaded at a later stage when the ODE system is being integrated. The latter type of numerical constant is known as a *parameter*.\n",
    "\n",
    "Setting up the ODE system\n",
    "-------------------------\n",
    "\n",
    "Let's start by importing heyoka and NumPy:"
   ]
  },
  {
   "cell_type": "code",
   "execution_count": 1,
   "metadata": {},
   "outputs": [],
   "source": [
    "import heyoka as hy\n",
    "import numpy as np"
   ]
  },
  {
   "cell_type": "markdown",
   "metadata": {},
   "source": [
    "For this example, we will be integrating the pendulum ODE:\n",
    "\n",
    "\\begin{equation}\n",
    "   \\begin{cases}\n",
    "   x^\\prime = v \\\\\n",
    "   v^\\prime = -g \\sin x\n",
    "   \\end{cases},\n",
    "\\end{equation}\n",
    "\n",
    "where $g$ is the value of the gravitational acceleration ($9.8\\,\\mathrm{m}/\\mathrm{s}^2$ on Earth). Let's first create the symbolic state variables $x$ and $v$, which represent respectively the pendulum's angle and its time derivative:"
   ]
  },
  {
   "cell_type": "code",
   "execution_count": 2,
   "metadata": {},
   "outputs": [],
   "source": [
    "x, v = hy.make_vars(\"x\", \"v\")"
   ]
  },
  {
   "cell_type": "markdown",
   "metadata": {},
   "source": [
    "Because we don't want to fix $g$ to a specific numerical value, when writing down the ODE system we will be implementing $g$ as a parameter:"
   ]
  },
  {
   "cell_type": "code",
   "execution_count": 3,
   "metadata": {},
   "outputs": [],
   "source": [
    "ode_sys = [(x, v),\n",
    "           (v, -hy.par[0] * hy.sin(x))]"
   ]
  },
  {
   "cell_type": "markdown",
   "metadata": {},
   "source": [
    "The syntax ``par[0]`` means that the actual value of $g$ will be the first value (index 0) loaded from the parameter array when integrating the ODE system.\n",
    "\n",
    "Let's now create the integrator object, using as initial conditions $\\left( \\pi/2, 0\\right)$:"
   ]
  },
  {
   "cell_type": "code",
   "execution_count": 4,
   "metadata": {},
   "outputs": [
    {
     "name": "stdout",
     "output_type": "stream",
     "text": [
      "Taylor order: 20\n",
      "Dimension   : 2\n",
      "Time        : 0.0000000000000000\n",
      "State       : [1.5707963267948966, 0.0000000000000000]\n",
      "Parameters  : [0.0000000000000000]\n",
      "\n"
     ]
    }
   ],
   "source": [
    "ta = hy.taylor_adaptive(ode_sys,\n",
    "                       [np.pi/2, 0])\n",
    "\n",
    "print(ta)"
   ]
  },
  {
   "cell_type": "markdown",
   "metadata": {},
   "source": [
    "As you can see from the screen output ``Parameters = ...``, heyoka detected that ``ode_sys`` contains one parameter, and set its value to zero. We can change the value of the parameter by directly accessing the parameters array:"
   ]
  },
  {
   "cell_type": "code",
   "execution_count": 5,
   "metadata": {},
   "outputs": [
    {
     "name": "stdout",
     "output_type": "stream",
     "text": [
      "Taylor order: 20\n",
      "Dimension   : 2\n",
      "Time        : 0.0000000000000000\n",
      "State       : [1.5707963267948966, 0.0000000000000000]\n",
      "Parameters  : [9.8000000000000007]\n",
      "\n"
     ]
    }
   ],
   "source": [
    "ta.pars[0] = 9.8\n",
    "\n",
    "print(ta)"
   ]
  },
  {
   "cell_type": "markdown",
   "metadata": {},
   "source": [
    "Note that it is also possible to directly set the value of the parameters on construction via the ``pars`` keyword argument:"
   ]
  },
  {
   "cell_type": "code",
   "execution_count": 6,
   "metadata": {},
   "outputs": [
    {
     "name": "stdout",
     "output_type": "stream",
     "text": [
      "Taylor order: 20\n",
      "Dimension   : 2\n",
      "Time        : 0.0000000000000000\n",
      "State       : [1.5707963267948966, 0.0000000000000000]\n",
      "Parameters  : [9.8000000000000007]\n",
      "\n"
     ]
    }
   ],
   "source": [
    "ta = hy.taylor_adaptive(ode_sys,\n",
    "                       [np.pi/2, 0],\n",
    "                       pars=[9.8])\n",
    "\n",
    "print(ta)"
   ]
  },
  {
   "cell_type": "markdown",
   "metadata": {},
   "source": [
    "Let's now integrate the ODE system for a few time units:"
   ]
  },
  {
   "cell_type": "code",
   "execution_count": 7,
   "metadata": {},
   "outputs": [],
   "source": [
    "t_grid = np.linspace(0,10,1000)\n",
    "e_hist = [(ta.propagate_until(_), ta.state[0])[1] for _ in t_grid]"
   ]
  },
  {
   "cell_type": "markdown",
   "metadata": {},
   "source": [
    "Let's now move to Mars, where the gravitational acceleration on the surface is $3.71\\,\\mathrm{m}/\\mathrm{s}^2$ (instead of good ole Earth's $9.8\\,\\mathrm{m}/\\mathrm{s}^2$):"
   ]
  },
  {
   "cell_type": "code",
   "execution_count": 8,
   "metadata": {},
   "outputs": [],
   "source": [
    "# Reset time and state.\n",
    "ta.time = 0\n",
    "ta.state[:] = [np.pi/2, 0]\n",
    "\n",
    "# Change gravity.\n",
    "ta.pars[0] = 3.71\n",
    "\n",
    "# Integrate again.\n",
    "m_hist = [(ta.propagate_until(_), ta.state[0])[1] for _ in t_grid]"
   ]
  },
  {
   "cell_type": "markdown",
   "metadata": {},
   "source": [
    "Finally, let's plot the evolution of $x$ in time to show how a pendulum swings more slowly on Mars:"
   ]
  },
  {
   "cell_type": "code",
   "execution_count": 9,
   "metadata": {},
   "outputs": [
    {
     "data": {
      "application/vnd.jupyter.widget-view+json": {
       "model_id": "0d2a8d8870444143b5590a54236b9dc0",
       "version_major": 2,
       "version_minor": 0
      },
      "text/plain": [
       "Canvas(toolbar=Toolbar(toolitems=[('Home', 'Reset original view', 'home', 'home'), ('Back', 'Back to previous …"
      ]
     },
     "metadata": {},
     "output_type": "display_data"
    },
    {
     "data": {
      "text/plain": [
       "<matplotlib.legend.Legend at 0x7faddff94590>"
      ]
     },
     "execution_count": 9,
     "metadata": {},
     "output_type": "execute_result"
    }
   ],
   "source": [
    "%matplotlib widget\n",
    "from matplotlib.pylab import plt\n",
    "\n",
    "plt.plot(t_grid, e_hist, label=\"Earth\")\n",
    "plt.plot(t_grid, m_hist, label=\"Mars\")\n",
    "plt.xlabel(\"Time\")\n",
    "plt.ylabel(\"x\")\n",
    "plt.legend()"
   ]
  },
  {
   "cell_type": "code",
   "execution_count": null,
   "metadata": {},
   "outputs": [],
   "source": []
  }
 ],
 "metadata": {
  "kernelspec": {
   "display_name": "Python 3",
   "language": "python",
   "name": "python3"
  },
  "language_info": {
   "codemirror_mode": {
    "name": "ipython",
    "version": 3
   },
   "file_extension": ".py",
   "mimetype": "text/x-python",
   "name": "python",
   "nbconvert_exporter": "python",
   "pygments_lexer": "ipython3",
   "version": "3.7.8"
  }
 },
 "nbformat": 4,
 "nbformat_minor": 4
}
